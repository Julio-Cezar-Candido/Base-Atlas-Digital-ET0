{
 "cells": [
  {
   "cell_type": "code",
   "execution_count": 1,
   "metadata": {},
   "outputs": [],
   "source": [
    "#Importar bibliotecas:\n",
    "import pandas as pd\n",
    "import numpy as np\n",
    "import datetime\n",
    "from tqdm import trange #barra de progresso"
   ]
  },
  {
   "cell_type": "code",
   "execution_count": 2,
   "metadata": {},
   "outputs": [],
   "source": [
    "#Função para cálcular a IRRADIÂNCIA SOLAR EXTRATERRESTRE (MJ/m² . dia):\n",
    "def getRadian(latitude, dia_juliano):\n",
    "    latitude -= -1.25\n",
    "    latitude = np.radians(latitude)\n",
    "    inclinacao = np.radians(23.45) * np.sin (((np.radians(360) / 365) * (284 + dia_juliano)))\n",
    "    hn = np.arccos((-np.tan(latitude)) * np.tan(inclinacao))\n",
    "    radAtm = 37.6 * (( hn *  np.sin(latitude) * np.sin(inclinacao)) + ( np.cos(latitude) * np.cos(inclinacao) * np.sin(hn) )  )\n",
    "    return radAtm"
   ]
  },
  {
   "cell_type": "code",
   "execution_count": 3,
   "metadata": {},
   "outputs": [
    {
     "name": "stdout",
     "output_type": "stream",
     "text": [
      "Concluido!\n"
     ]
    }
   ],
   "source": [
    "#Importando dados:\n",
    "df_tmed = pd.read_excel('Banco de dados Site/TEMPERATURA_MEDIA.xlsx')\n",
    "df_tmax_tmin = pd.read_excel('Banco de dados Site/TEMPERATURA_MIN_MAX.xlsx')\n",
    "df_umid = pd.read_excel('Banco de dados Site/UMIDADE.xlsx')\n",
    "\n",
    "print('Concluido!')"
   ]
  },
  {
   "cell_type": "code",
   "execution_count": 4,
   "metadata": {},
   "outputs": [
    {
     "name": "stdout",
     "output_type": "stream",
     "text": [
      "Concluido!\n"
     ]
    }
   ],
   "source": [
    "#Convertendo as Temp de \"Kº\" para \"Cº\":\n",
    "\n",
    "#Temperatura Média:\n",
    "df_tmed['LONG_307,5'] -= 273.15\n",
    "df_tmed['LONG_310'] -= 273.15\n",
    "df_tmed['LONG_312,5'] -= 273.15\n",
    "\n",
    "#Temperatura Mínina e Máxima:\n",
    "df_tmax_tmin['LONG_307,5'] -= 273.15\n",
    "df_tmax_tmin['LONG_310'] -= 273.15\n",
    "df_tmax_tmin['LONG_312,5'] -= 273.15\n",
    "\n",
    "print('Concluido!')"
   ]
  },
  {
   "cell_type": "code",
   "execution_count": 5,
   "metadata": {},
   "outputs": [
    {
     "name": "stdout",
     "output_type": "stream",
     "text": [
      "Concluido!\n"
     ]
    }
   ],
   "source": [
    "#Criando colunas de \"DIA\" e \"MÊS\":\n",
    "df_tmed['DIA DO MÊS'] = pd.DatetimeIndex(df_tmed['DIA']).day\n",
    "df_tmax_tmin['DIA DO MÊS'] = pd.DatetimeIndex(df_tmax_tmin['DIA']).day\n",
    "df_umid['DIA DO MÊS'] = pd.DatetimeIndex(df_umid['DIA']).day\n",
    "\n",
    "df_tmed['MÊS'] = pd.DatetimeIndex(df_tmed['DIA']).month\n",
    "df_tmax_tmin['MÊS'] = pd.DatetimeIndex(df_tmax_tmin['DIA']).month\n",
    "df_umid['MÊS'] = pd.DatetimeIndex(df_umid['DIA']).month\n",
    "\n",
    "print('Concluido!')"
   ]
  },
  {
   "cell_type": "code",
   "execution_count": 6,
   "metadata": {},
   "outputs": [
    {
     "data": {
      "text/html": [
       "<div>\n",
       "<style scoped>\n",
       "    .dataframe tbody tr th:only-of-type {\n",
       "        vertical-align: middle;\n",
       "    }\n",
       "\n",
       "    .dataframe tbody tr th {\n",
       "        vertical-align: top;\n",
       "    }\n",
       "\n",
       "    .dataframe thead th {\n",
       "        text-align: right;\n",
       "    }\n",
       "</style>\n",
       "<table border=\"1\" class=\"dataframe\">\n",
       "  <thead>\n",
       "    <tr style=\"text-align: right;\">\n",
       "      <th></th>\n",
       "      <th>DIA</th>\n",
       "      <th>MAX ou MIN</th>\n",
       "      <th>LATITUDE</th>\n",
       "      <th>LONG_307,5</th>\n",
       "      <th>LONG_310</th>\n",
       "      <th>LONG_312,5</th>\n",
       "      <th>DIA DO MÊS</th>\n",
       "      <th>MÊS</th>\n",
       "    </tr>\n",
       "  </thead>\n",
       "  <tbody>\n",
       "    <tr>\n",
       "      <th>0</th>\n",
       "      <td>1989-01-01</td>\n",
       "      <td>MINIMA</td>\n",
       "      <td>-5.0</td>\n",
       "      <td>21.65000</td>\n",
       "      <td>22.15000</td>\n",
       "      <td>21.35000</td>\n",
       "      <td>1</td>\n",
       "      <td>1</td>\n",
       "    </tr>\n",
       "    <tr>\n",
       "      <th>1</th>\n",
       "      <td>1989-01-01</td>\n",
       "      <td>MINIMA</td>\n",
       "      <td>-7.5</td>\n",
       "      <td>20.95000</td>\n",
       "      <td>22.05000</td>\n",
       "      <td>21.85000</td>\n",
       "      <td>1</td>\n",
       "      <td>1</td>\n",
       "    </tr>\n",
       "    <tr>\n",
       "      <th>2</th>\n",
       "      <td>1989-01-01</td>\n",
       "      <td>MINIMA</td>\n",
       "      <td>-10.0</td>\n",
       "      <td>21.45000</td>\n",
       "      <td>22.25002</td>\n",
       "      <td>21.75002</td>\n",
       "      <td>1</td>\n",
       "      <td>1</td>\n",
       "    </tr>\n",
       "    <tr>\n",
       "      <th>3</th>\n",
       "      <td>1989-01-01</td>\n",
       "      <td>MINIMA</td>\n",
       "      <td>-12.5</td>\n",
       "      <td>22.45000</td>\n",
       "      <td>22.85000</td>\n",
       "      <td>20.95000</td>\n",
       "      <td>1</td>\n",
       "      <td>1</td>\n",
       "    </tr>\n",
       "    <tr>\n",
       "      <th>4</th>\n",
       "      <td>1989-01-01</td>\n",
       "      <td>MAXIMA</td>\n",
       "      <td>-5.0</td>\n",
       "      <td>24.45000</td>\n",
       "      <td>24.75002</td>\n",
       "      <td>24.55000</td>\n",
       "      <td>1</td>\n",
       "      <td>1</td>\n",
       "    </tr>\n",
       "    <tr>\n",
       "      <th>...</th>\n",
       "      <td>...</td>\n",
       "      <td>...</td>\n",
       "      <td>...</td>\n",
       "      <td>...</td>\n",
       "      <td>...</td>\n",
       "      <td>...</td>\n",
       "      <td>...</td>\n",
       "      <td>...</td>\n",
       "    </tr>\n",
       "    <tr>\n",
       "      <th>90571</th>\n",
       "      <td>2019-12-31</td>\n",
       "      <td>MINIMA</td>\n",
       "      <td>-12.5</td>\n",
       "      <td>23.04998</td>\n",
       "      <td>23.15000</td>\n",
       "      <td>21.84997</td>\n",
       "      <td>31</td>\n",
       "      <td>12</td>\n",
       "    </tr>\n",
       "    <tr>\n",
       "      <th>90572</th>\n",
       "      <td>2019-12-31</td>\n",
       "      <td>MAXIMA</td>\n",
       "      <td>-5.0</td>\n",
       "      <td>23.84997</td>\n",
       "      <td>24.54998</td>\n",
       "      <td>24.65000</td>\n",
       "      <td>31</td>\n",
       "      <td>12</td>\n",
       "    </tr>\n",
       "    <tr>\n",
       "      <th>90573</th>\n",
       "      <td>2019-12-31</td>\n",
       "      <td>MAXIMA</td>\n",
       "      <td>-7.5</td>\n",
       "      <td>23.15000</td>\n",
       "      <td>24.15000</td>\n",
       "      <td>24.54998</td>\n",
       "      <td>31</td>\n",
       "      <td>12</td>\n",
       "    </tr>\n",
       "    <tr>\n",
       "      <th>90574</th>\n",
       "      <td>2019-12-31</td>\n",
       "      <td>MAXIMA</td>\n",
       "      <td>-10.0</td>\n",
       "      <td>24.24996</td>\n",
       "      <td>24.84997</td>\n",
       "      <td>23.65000</td>\n",
       "      <td>31</td>\n",
       "      <td>12</td>\n",
       "    </tr>\n",
       "    <tr>\n",
       "      <th>90575</th>\n",
       "      <td>2019-12-31</td>\n",
       "      <td>MAXIMA</td>\n",
       "      <td>-12.5</td>\n",
       "      <td>25.54998</td>\n",
       "      <td>25.74996</td>\n",
       "      <td>23.54998</td>\n",
       "      <td>31</td>\n",
       "      <td>12</td>\n",
       "    </tr>\n",
       "  </tbody>\n",
       "</table>\n",
       "<p>90576 rows × 8 columns</p>\n",
       "</div>"
      ],
      "text/plain": [
       "             DIA MAX ou MIN  LATITUDE  LONG_307,5  LONG_310  LONG_312,5  \\\n",
       "0     1989-01-01     MINIMA      -5.0    21.65000  22.15000    21.35000   \n",
       "1     1989-01-01     MINIMA      -7.5    20.95000  22.05000    21.85000   \n",
       "2     1989-01-01     MINIMA     -10.0    21.45000  22.25002    21.75002   \n",
       "3     1989-01-01     MINIMA     -12.5    22.45000  22.85000    20.95000   \n",
       "4     1989-01-01     MAXIMA      -5.0    24.45000  24.75002    24.55000   \n",
       "...          ...        ...       ...         ...       ...         ...   \n",
       "90571 2019-12-31     MINIMA     -12.5    23.04998  23.15000    21.84997   \n",
       "90572 2019-12-31     MAXIMA      -5.0    23.84997  24.54998    24.65000   \n",
       "90573 2019-12-31     MAXIMA      -7.5    23.15000  24.15000    24.54998   \n",
       "90574 2019-12-31     MAXIMA     -10.0    24.24996  24.84997    23.65000   \n",
       "90575 2019-12-31     MAXIMA     -12.5    25.54998  25.74996    23.54998   \n",
       "\n",
       "       DIA DO MÊS  MÊS  \n",
       "0               1    1  \n",
       "1               1    1  \n",
       "2               1    1  \n",
       "3               1    1  \n",
       "4               1    1  \n",
       "...           ...  ...  \n",
       "90571          31   12  \n",
       "90572          31   12  \n",
       "90573          31   12  \n",
       "90574          31   12  \n",
       "90575          31   12  \n",
       "\n",
       "[90576 rows x 8 columns]"
      ]
     },
     "execution_count": 6,
     "metadata": {},
     "output_type": "execute_result"
    }
   ],
   "source": [
    "#Testando dados:\n",
    "df_tmax_tmin"
   ]
  },
  {
   "cell_type": "code",
   "execution_count": 7,
   "metadata": {},
   "outputs": [
    {
     "name": "stdout",
     "output_type": "stream",
     "text": [
      "Concluido!\n"
     ]
    }
   ],
   "source": [
    "#Fazendo a média de cada dia (01/01, 02/01, ..., 30/12, 31/12) em todos os anos para cada DF:\n",
    "\n",
    "df_tmed = df_tmed.groupby(['LATITUDE', 'MÊS', 'DIA DO MÊS',]).agg({'LONG_307,5': np.mean, 'LONG_310': np.mean, 'LONG_312,5': np.mean})\n",
    "df_tmax_tmin = df_tmax_tmin.groupby(['LATITUDE', 'MÊS', 'DIA DO MÊS', 'MAX ou MIN']).agg({'LONG_307,5': np.mean, 'LONG_310': np.mean, 'LONG_312,5': np.mean})\n",
    "df_umid = df_umid.groupby(['LATITUDE', 'MÊS', 'DIA DO MÊS',]).agg({'LONG_307,5': np.mean, 'LONG_310': np.mean, 'LONG_312,5': np.mean})\n",
    "\n",
    "print('Concluido!')"
   ]
  },
  {
   "cell_type": "code",
   "execution_count": 8,
   "metadata": {},
   "outputs": [
    {
     "name": "stderr",
     "output_type": "stream",
     "text": [
      "100%|██████████| 366/366 [00:00<00:00, 158635.45it/s]"
     ]
    },
    {
     "name": "stdout",
     "output_type": "stream",
     "text": [
      "Concluido!\n"
     ]
    },
    {
     "name": "stderr",
     "output_type": "stream",
     "text": [
      "\n"
     ]
    }
   ],
   "source": [
    "#adicionando dia juliano ao df_umid para calcular o \"radA\":\n",
    "dia_juliano = []\n",
    "for i in trange(1, 367):\n",
    "    dia_juliano.append(i)\n",
    "df_umid['DIA JULIANO'] = dia_juliano * 4\n",
    "\n",
    "print('Concluido!')"
   ]
  },
  {
   "cell_type": "code",
   "execution_count": 9,
   "metadata": {},
   "outputs": [
    {
     "data": {
      "text/plain": [
       "24.640646451612934"
      ]
     },
     "execution_count": 9,
     "metadata": {},
     "output_type": "execute_result"
    }
   ],
   "source": [
    "#chamando dados:\n",
    "df_tmax_tmin['LONG_307,5'][-5.0][1][1]['MAXIMA']"
   ]
  },
  {
   "cell_type": "code",
   "execution_count": 10,
   "metadata": {},
   "outputs": [
    {
     "name": "stderr",
     "output_type": "stream",
     "text": [
      "100%|██████████| 3/3 [00:50<00:00, 16.73s/it]"
     ]
    },
    {
     "name": "stdout",
     "output_type": "stream",
     "text": [
      "Concluido!\n"
     ]
    },
    {
     "name": "stderr",
     "output_type": "stream",
     "text": [
      "\n"
     ]
    }
   ],
   "source": [
    "#Salvar dados em Dicts:\n",
    "tmed = {'zona1' : [], 'zona2' : [], 'zona3' : [], 'zona4' : [], 'zona5' : [], 'zona6' : [], 'zona7' : [], 'zona8' : [], 'zona9' : [], 'zona10' : [], 'zona11' : [], 'zona12' : []}\n",
    "tmin = {'zona1' : [], 'zona2' : [], 'zona3' : [], 'zona4' : [], 'zona5' : [], 'zona6' : [], 'zona7' : [], 'zona8' : [], 'zona9' : [], 'zona10' : [], 'zona11' : [], 'zona12' : []}\n",
    "tmax = {'zona1' : [], 'zona2' : [], 'zona3' : [], 'zona4' : [], 'zona5' : [], 'zona6' : [], 'zona7' : [], 'zona8' : [], 'zona9' : [], 'zona10' : [], 'zona11' : [], 'zona12' : []}\n",
    "umid = {'zona1' : [], 'zona2' : [], 'zona3' : [], 'zona4' : [], 'zona5' : [], 'zona6' : [], 'zona7' : [], 'zona8' : [], 'zona9' : [], 'zona10' : [], 'zona11' : [], 'zona12' : []}\n",
    "radA = {'zona1' : [], 'zona2' : [], 'zona3' : [], 'zona4' : [], 'zona5' : [], 'zona6' : [], 'zona7' : [], 'zona8' : [], 'zona9' : [], 'zona10' : [], 'zona11' : [], 'zona12' : []}\n",
    "\n",
    "#Listas auxiliares:\n",
    "latitude = [-5.0, -7.5, -10.0, -12.5]\n",
    "longitude = ['LONG_307,5', 'LONG_310', 'LONG_312,5']\n",
    "max_min = ['MAXIMA', 'MINIMA']\n",
    "\n",
    "#Entrar em cada coluna de longitude:\n",
    "for long in trange(0, 3):\n",
    "    \n",
    "    #Entrar em cada indice de latitude:\n",
    "    for lati in range(0, 4):\n",
    "        \n",
    "        #Entrar em cada indice de mês:\n",
    "        for mês in range(1, 13):\n",
    "            \n",
    "            #definir quantidade de dias no mês:\n",
    "            if mês in [1, 3, 5, 7, 8, 10, 12]:\n",
    "                qtd_dia = 32\n",
    "            elif mês == 2:\n",
    "                qtd_dia = 30\n",
    "            else:\n",
    "                qtd_dia = 31\n",
    "                \n",
    "            #Entrar em cada indice de dia:\n",
    "            for dia in range(1, qtd_dia):\n",
    "                \n",
    "                #Salvar dados de temperatura média, umidade, radiação de cada dia separado por zona:\n",
    "                if lati == 0 and long == 0:\n",
    "                    tmed['zona1'].append(df_tmed[longitude[long]][latitude[lati]][mês][dia])\n",
    "                    umid['zona1'].append(df_umid[longitude[long]][latitude[lati]][mês][dia])\n",
    "                    radA['zona1'].append(getRadian(latitude[lati], df_umid['DIA JULIANO'][latitude[lati]][mês][dia]))\n",
    "                elif lati == 0 and long == 1:\n",
    "                    tmed['zona2'].append(df_tmed[longitude[long]][latitude[lati]][mês][dia])\n",
    "                    umid['zona2'].append(df_umid[longitude[long]][latitude[lati]][mês][dia])\n",
    "                    radA['zona2'].append(getRadian(latitude[lati], df_umid['DIA JULIANO'][latitude[lati]][mês][dia]))\n",
    "                elif lati == 0 and long == 2:\n",
    "                    tmed['zona3'].append(df_tmed[longitude[long]][latitude[lati]][mês][dia])\n",
    "                    umid['zona3'].append(df_umid[longitude[long]][latitude[lati]][mês][dia])\n",
    "                    radA['zona3'].append(getRadian(latitude[lati], df_umid['DIA JULIANO'][latitude[lati]][mês][dia]))\n",
    "                elif lati == 1 and long == 0:\n",
    "                    tmed['zona4'].append(df_tmed[longitude[long]][latitude[lati]][mês][dia])\n",
    "                    umid['zona4'].append(df_umid[longitude[long]][latitude[lati]][mês][dia])\n",
    "                    radA['zona4'].append(getRadian(latitude[lati], df_umid['DIA JULIANO'][latitude[lati]][mês][dia]))\n",
    "                elif lati == 1 and long == 1:\n",
    "                    tmed['zona5'].append(df_tmed[longitude[long]][latitude[lati]][mês][dia])\n",
    "                    umid['zona5'].append(df_umid[longitude[long]][latitude[lati]][mês][dia])\n",
    "                    radA['zona5'].append(getRadian(latitude[lati], df_umid['DIA JULIANO'][latitude[lati]][mês][dia]))\n",
    "                elif lati == 1 and long == 2:\n",
    "                    tmed['zona6'].append(df_tmed[longitude[long]][latitude[lati]][mês][dia])\n",
    "                    umid['zona6'].append(df_umid[longitude[long]][latitude[lati]][mês][dia])\n",
    "                    radA['zona6'].append(getRadian(latitude[lati], df_umid['DIA JULIANO'][latitude[lati]][mês][dia]))\n",
    "                elif lati == 2 and long == 0:\n",
    "                    tmed['zona7'].append(df_tmed[longitude[long]][latitude[lati]][mês][dia])\n",
    "                    umid['zona7'].append(df_umid[longitude[long]][latitude[lati]][mês][dia])\n",
    "                    radA['zona7'].append(getRadian(latitude[lati], df_umid['DIA JULIANO'][latitude[lati]][mês][dia]))\n",
    "                elif lati == 2 and long == 1:\n",
    "                    tmed['zona8'].append(df_tmed[longitude[long]][latitude[lati]][mês][dia])\n",
    "                    umid['zona8'].append(df_umid[longitude[long]][latitude[lati]][mês][dia])\n",
    "                    radA['zona8'].append(getRadian(latitude[lati], df_umid['DIA JULIANO'][latitude[lati]][mês][dia]))\n",
    "                elif lati == 2 and long == 2:\n",
    "                    tmed['zona9'].append(df_tmed[longitude[long]][latitude[lati]][mês][dia])\n",
    "                    umid['zona9'].append(df_umid[longitude[long]][latitude[lati]][mês][dia])\n",
    "                    radA['zona9'].append(getRadian(latitude[lati], df_umid['DIA JULIANO'][latitude[lati]][mês][dia]))\n",
    "                elif lati == 3 and long == 0:\n",
    "                    tmed['zona10'].append(df_tmed[longitude[long]][latitude[lati]][mês][dia])\n",
    "                    umid['zona10'].append(df_umid[longitude[long]][latitude[lati]][mês][dia])\n",
    "                    radA['zona10'].append(getRadian(latitude[lati], df_umid['DIA JULIANO'][latitude[lati]][mês][dia]))\n",
    "                elif lati == 3 and long == 1:\n",
    "                    tmed['zona11'].append(df_tmed[longitude[long]][latitude[lati]][mês][dia])\n",
    "                    umid['zona11'].append(df_umid[longitude[long]][latitude[lati]][mês][dia])\n",
    "                    radA['zona11'].append(getRadian(latitude[lati], df_umid['DIA JULIANO'][latitude[lati]][mês][dia]))\n",
    "                elif lati == 3 and long == 2:\n",
    "                    tmed['zona12'].append(df_tmed[longitude[long]][latitude[lati]][mês][dia])\n",
    "                    umid['zona12'].append(df_umid[longitude[long]][latitude[lati]][mês][dia])\n",
    "                    radA['zona12'].append(getRadian(latitude[lati], df_umid['DIA JULIANO'][latitude[lati]][mês][dia]))\n",
    "                \n",
    "                #entrar em cada tipo de temperatura (MAXIMA ou MINIMA):\n",
    "                for tipoTemp in range(0, 2):\n",
    "                    \n",
    "                    #Salvar dados de temperatura máxima de cada dia separado por zona:\n",
    "                    if tipoTemp == 0:\n",
    "                        if lati == 0 and long == 0:\n",
    "                            tmax['zona1'].append(df_tmax_tmin[longitude[long]][latitude[lati]][mês][dia][max_min[tipoTemp]])\n",
    "                        elif lati == 0 and long == 1:\n",
    "                            tmax['zona2'].append(df_tmax_tmin[longitude[long]][latitude[lati]][mês][dia][max_min[tipoTemp]])\n",
    "                        elif lati == 0 and long == 2:\n",
    "                            tmax['zona3'].append(df_tmax_tmin[longitude[long]][latitude[lati]][mês][dia][max_min[tipoTemp]])\n",
    "                        elif lati == 1 and long == 0:\n",
    "                            tmax['zona4'].append(df_tmax_tmin[longitude[long]][latitude[lati]][mês][dia][max_min[tipoTemp]])\n",
    "                        elif lati == 1 and long == 1:\n",
    "                            tmax['zona5'].append(df_tmax_tmin[longitude[long]][latitude[lati]][mês][dia][max_min[tipoTemp]])\n",
    "                        elif lati == 1 and long == 2:\n",
    "                            tmax['zona6'].append(df_tmax_tmin[longitude[long]][latitude[lati]][mês][dia][max_min[tipoTemp]])\n",
    "                        elif lati == 2 and long == 0:\n",
    "                            tmax['zona7'].append(df_tmax_tmin[longitude[long]][latitude[lati]][mês][dia][max_min[tipoTemp]])\n",
    "                        elif lati == 2 and long == 1:\n",
    "                            tmax['zona8'].append(df_tmax_tmin[longitude[long]][latitude[lati]][mês][dia][max_min[tipoTemp]])\n",
    "                        elif lati == 2 and long == 2:\n",
    "                            tmax['zona9'].append(df_tmax_tmin[longitude[long]][latitude[lati]][mês][dia][max_min[tipoTemp]])\n",
    "                        elif lati == 3 and long == 0:\n",
    "                            tmax['zona10'].append(df_tmax_tmin[longitude[long]][latitude[lati]][mês][dia][max_min[tipoTemp]])\n",
    "                        elif lati == 3 and long == 1:\n",
    "                            tmax['zona11'].append(df_tmax_tmin[longitude[long]][latitude[lati]][mês][dia][max_min[tipoTemp]])\n",
    "                        elif lati == 3 and long == 2:\n",
    "                            tmax['zona12'].append(df_tmax_tmin[longitude[long]][latitude[lati]][mês][dia][max_min[tipoTemp]])\n",
    "                            \n",
    "                    #Salvar dados de temperatura mínima de cada dia separado por zona:\n",
    "                    else:\n",
    "                        if lati == 0 and long == 0:\n",
    "                            tmin['zona1'].append(df_tmax_tmin[longitude[long]][latitude[lati]][mês][dia][max_min[tipoTemp]])\n",
    "                        elif lati == 0 and long == 1:\n",
    "                            tmin['zona2'].append(df_tmax_tmin[longitude[long]][latitude[lati]][mês][dia][max_min[tipoTemp]])\n",
    "                        elif lati == 0 and long == 2:\n",
    "                            tmin['zona3'].append(df_tmax_tmin[longitude[long]][latitude[lati]][mês][dia][max_min[tipoTemp]])\n",
    "                        elif lati == 1 and long == 0:\n",
    "                            tmin['zona4'].append(df_tmax_tmin[longitude[long]][latitude[lati]][mês][dia][max_min[tipoTemp]])\n",
    "                        elif lati == 1 and long == 1:\n",
    "                            tmin['zona5'].append(df_tmax_tmin[longitude[long]][latitude[lati]][mês][dia][max_min[tipoTemp]])\n",
    "                        elif lati == 1 and long == 2:\n",
    "                            tmin['zona6'].append(df_tmax_tmin[longitude[long]][latitude[lati]][mês][dia][max_min[tipoTemp]])\n",
    "                        elif lati == 2 and long == 0:\n",
    "                            tmin['zona7'].append(df_tmax_tmin[longitude[long]][latitude[lati]][mês][dia][max_min[tipoTemp]])\n",
    "                        elif lati == 2 and long == 1:\n",
    "                            tmin['zona8'].append(df_tmax_tmin[longitude[long]][latitude[lati]][mês][dia][max_min[tipoTemp]])\n",
    "                        elif lati == 2 and long == 2:\n",
    "                            tmin['zona9'].append(df_tmax_tmin[longitude[long]][latitude[lati]][mês][dia][max_min[tipoTemp]])\n",
    "                        elif lati == 3 and long == 0:\n",
    "                            tmin['zona10'].append(df_tmax_tmin[longitude[long]][latitude[lati]][mês][dia][max_min[tipoTemp]])\n",
    "                        elif lati == 3 and long == 1:\n",
    "                            tmin['zona11'].append(df_tmax_tmin[longitude[long]][latitude[lati]][mês][dia][max_min[tipoTemp]])\n",
    "                        elif lati == 3 and long == 2:\n",
    "                            tmin['zona12'].append(df_tmax_tmin[longitude[long]][latitude[lati]][mês][dia][max_min[tipoTemp]])\n",
    "                        \n",
    "print('Concluido!')                        "
   ]
  },
  {
   "cell_type": "code",
   "execution_count": 11,
   "metadata": {},
   "outputs": [],
   "source": [
    "#['ET0IV'] = (0.006 * (((25 + (Temp Média))** 2) * (1 - (Umidade'/ 100))))\n",
    "def evapoIV(temp_med, umid):\n",
    "    et0IV = 0.006 * ( ( (25 + temp_med ) ** 2) * (1 - (umid / 100) )  )\n",
    "    return et0IV\n",
    "\n",
    "#['ET0HS'] = 0.0023 * (radAtm  / 2.45) * (np.sqrt(tpmax - tpmin)) * (media_dia_temperatura + 17.8)\n",
    "def evapoHS(radiacao, temp_max, temp_min, temp_med):\n",
    "    et0HS = 0.0023 * (radiacao / 2.45) * (np.sqrt (temp_max - temp_min)) * (temp_med + 17.8)\n",
    "    return et0HS"
   ]
  },
  {
   "cell_type": "code",
   "execution_count": 12,
   "metadata": {},
   "outputs": [
    {
     "name": "stderr",
     "output_type": "stream",
     "text": [
      "100%|██████████| 12/12 [00:00<00:00, 186.73it/s]"
     ]
    },
    {
     "name": "stdout",
     "output_type": "stream",
     "text": [
      "Concluido!\n"
     ]
    },
    {
     "name": "stderr",
     "output_type": "stream",
     "text": [
      "\n"
     ]
    }
   ],
   "source": [
    "#Cálcular ET0 e salvar dados em DF para cada zona:\n",
    "\n",
    "#Dicts para salvar as ET0:\n",
    "et0IV = {'zona1' : [], 'zona2' : [], 'zona3' : [], 'zona4' : [], 'zona5' : [], 'zona6' : [], 'zona7' : [], 'zona8' : [], 'zona9' : [], 'zona10' : [], 'zona11' : [], 'zona12' : []}\n",
    "et0HS = {'zona1' : [], 'zona2' : [], 'zona3' : [], 'zona4' : [], 'zona5' : [], 'zona6' : [], 'zona7' : [], 'zona8' : [], 'zona9' : [], 'zona10' : [], 'zona11' : [], 'zona12' : []}\n",
    "\n",
    "#Lista auxiliar:\n",
    "zonas = ['zona1', 'zona2', 'zona3', 'zona4', 'zona5', 'zona6', 'zona7', 'zona8', 'zona9', 'zona10', 'zona11', 'zona12']\n",
    "\n",
    "#Entra em cada zona:\n",
    "for zona in trange(12):\n",
    "    \n",
    "    #Entra em cada dia e realiza os cálculos:\n",
    "    for dia in range(366):\n",
    "        et0IV[zonas[zona]].append(evapoIV(tmed[zonas[zona]][dia], umid[zonas[zona]][dia]))\n",
    "        et0HS[zonas[zona]].append(evapoHS(radA[zonas[zona]][dia], tmax[zonas[zona]][dia], tmin[zonas[zona]][dia], tmed[zonas[zona]][dia]))\n",
    "\n",
    "print('Concluido!')"
   ]
  },
  {
   "cell_type": "code",
   "execution_count": 13,
   "metadata": {},
   "outputs": [
    {
     "data": {
      "text/plain": [
       "3.095065943813724"
      ]
     },
     "execution_count": 13,
     "metadata": {},
     "output_type": "execute_result"
    }
   ],
   "source": [
    "et0HS['zona5'][166]"
   ]
  },
  {
   "cell_type": "code",
   "execution_count": 14,
   "metadata": {},
   "outputs": [
    {
     "data": {
      "text/plain": [
       "2.889725818959151"
      ]
     },
     "execution_count": 14,
     "metadata": {},
     "output_type": "execute_result"
    }
   ],
   "source": [
    "et0HS['zona4'][166]"
   ]
  },
  {
   "cell_type": "code",
   "execution_count": 15,
   "metadata": {},
   "outputs": [
    {
     "name": "stdout",
     "output_type": "stream",
     "text": [
      "Concluido!\n"
     ]
    }
   ],
   "source": [
    "#Salvar cvs dos dados:\n",
    "df_tmed = pd.DataFrame(tmed)\n",
    "df_tmin = pd.DataFrame(tmin)\n",
    "df_tmax = pd.DataFrame(tmax)\n",
    "df_umid = pd.DataFrame(umid)\n",
    "df_radA = pd.DataFrame(radA)\n",
    "df_ET0IV = pd.DataFrame(et0IV)\n",
    "df_ET0HS = pd.DataFrame(et0HS)\n",
    "\n",
    "print('Concluido!')"
   ]
  },
  {
   "cell_type": "code",
   "execution_count": 16,
   "metadata": {},
   "outputs": [
    {
     "name": "stdout",
     "output_type": "stream",
     "text": [
      "Concluido!\n"
     ]
    }
   ],
   "source": [
    "#Criando planilha para salvar os dados:\n",
    "writer = pd.ExcelWriter('Tabelas_Resultados_Finais.xlsx', engine='xlsxwriter')\n",
    "\n",
    "print('Concluido!')"
   ]
  },
  {
   "cell_type": "code",
   "execution_count": 17,
   "metadata": {},
   "outputs": [
    {
     "name": "stdout",
     "output_type": "stream",
     "text": [
      "Concluido!\n"
     ]
    }
   ],
   "source": [
    "#Salvando cada Dict em uma aba:\n",
    "df_tmed.to_excel(writer, sheet_name='TEMPERATURA MÉDIA (ºC)')\n",
    "df_tmin.to_excel(writer, sheet_name='TEMPERATURA MÍNIMA (ºC)')\n",
    "df_tmax.to_excel(writer, sheet_name='TEMPERATURA MÁXIMA (ºC)')\n",
    "df_umid.to_excel(writer, sheet_name='UMIDADE RELATIVA (%)')\n",
    "df_radA.to_excel(writer, sheet_name='RAD ATM (MJ . m2-1 . dia)')\n",
    "df_ET0IV.to_excel(writer, sheet_name='ET0 IVANOV')\n",
    "df_ET0HS.to_excel(writer, sheet_name='ET0 HARGREAVES-SAMANI')\n",
    "\n",
    "print('Concluido!')"
   ]
  },
  {
   "cell_type": "code",
   "execution_count": 18,
   "metadata": {},
   "outputs": [
    {
     "name": "stdout",
     "output_type": "stream",
     "text": [
      "Concluido!\n"
     ]
    }
   ],
   "source": [
    "#Salvando edição:\n",
    "writer.save()\n",
    "\n",
    "print('Concluido!')"
   ]
  },
  {
   "cell_type": "code",
   "execution_count": 19,
   "metadata": {},
   "outputs": [
    {
     "name": "stderr",
     "output_type": "stream",
     "text": [
      "100%|██████████| 12/12 [00:00<00:00, 516.80it/s]"
     ]
    },
    {
     "name": "stdout",
     "output_type": "stream",
     "text": [
      "Concluido!\n"
     ]
    },
    {
     "name": "stderr",
     "output_type": "stream",
     "text": [
      "\n"
     ]
    }
   ],
   "source": [
    "#Cálcular médias mensais:\n",
    "\n",
    "#Criando Lista das médias:\n",
    "jan = []\n",
    "fev = []\n",
    "mar = []\n",
    "abr = []\n",
    "mai = []\n",
    "jun = []\n",
    "jul = []\n",
    "ago = []\n",
    "sete = []\n",
    "out = []\n",
    "nov = []\n",
    "dez = []\n",
    "\n",
    "#entra em cada zona:\n",
    "for zona in trange(12):\n",
    "    \n",
    "    #Contador auxiliar para achar o índice:\n",
    "    cont = -1\n",
    "    \n",
    "    #entra em cada mês\n",
    "    for mês in range(1, 13):\n",
    "        \n",
    "        #lista auxiliar para calcular a média de cada mês:\n",
    "        aux_media = []\n",
    "        \n",
    "        #Define a quantidade de dias em cada mês:\n",
    "        if mês in [1, 3, 5, 7, 8, 10, 12]:\n",
    "            qtd_dia = 32\n",
    "        elif mês == 2:\n",
    "            qtd_dia = 30\n",
    "        else:\n",
    "            qtd_dia = 31\n",
    "            \n",
    "        #entra em cada dia:\n",
    "        for dia in range(1, qtd_dia):\n",
    "\n",
    "            #contabiliza o dia:\n",
    "            cont += 1\n",
    "\n",
    "            #salva os valores diarios do mês:\n",
    "            aux_media.append(et0HS[zonas[zona]][cont])\n",
    "\n",
    "        #Tira a média do mês e salva:\n",
    "        if mês == 1:\n",
    "            jan.append(f'{np.mean(aux_media):.2f}')\n",
    "        elif mês == 2:\n",
    "            fev.append(f'{np.mean(aux_media):.2f}')\n",
    "        elif mês == 3:\n",
    "            mar.append(f'{np.mean(aux_media):.2f}')\n",
    "        elif mês == 4:\n",
    "            abr.append(f'{np.mean(aux_media):.2f}')\n",
    "        elif mês == 5:\n",
    "            mai.append(f'{np.mean(aux_media):.2f}')\n",
    "        elif mês == 6:\n",
    "            jun.append(f'{np.mean(aux_media):.2f}')\n",
    "        elif mês == 7:\n",
    "            jul.append(f'{np.mean(aux_media):.2f}')\n",
    "        elif mês == 8:\n",
    "            ago.append(f'{np.mean(aux_media):.2f}')\n",
    "        elif mês == 9:\n",
    "            sete.append(f'{np.mean(aux_media):.2f}')\n",
    "        elif mês == 10:\n",
    "            out.append(f'{np.mean(aux_media):.2f}')\n",
    "        elif mês == 11:\n",
    "            nov.append(f'{np.mean(aux_media):.2f}')\n",
    "        elif mês == 12:\n",
    "            dez.append(f'{np.mean(aux_media):.2f}')  \n",
    "            \n",
    "print('Concluido!')"
   ]
  },
  {
   "cell_type": "code",
   "execution_count": 20,
   "metadata": {},
   "outputs": [
    {
     "name": "stdout",
     "output_type": "stream",
     "text": [
      "Concluido!\n"
     ]
    }
   ],
   "source": [
    "#Criando Dict de cada mês:\n",
    "\n",
    "lat = [-6.25, -6.25, -6.25, -8.75, -8.75, -8.75, -11.25, -11.25, -11.25, -13.75, -13.75, -13.75]\n",
    "lon = [-51.25, -48.75, -46.25, -51.25, -48.75, -46.25, -51.25, -48.75, -46.25, -51.25, -48.75, -46.25]\n",
    "indetificação = ['zona-um', 'zona-dois', 'zona-tres', 'zona-quatro', 'zona-cinco', 'zona-seis', 'zona-sete', 'zona-oito', 'zona-nove', 'zona-dez', 'zona-onze', 'zona-doze']\n",
    "\n",
    "jan = {'Lat': lat, 'Long': lon, 'et0hs': jan, 'zonas': indetificação}\n",
    "fev = {'Lat': lat, 'Long': lon, 'et0hs': fev, 'zonas': indetificação}\n",
    "mar = {'Lat': lat, 'Long': lon, 'et0hs': mar, 'zonas': indetificação}\n",
    "abr = {'Lat': lat, 'Long': lon, 'et0hs': abr, 'zonas': indetificação}\n",
    "mai = {'Lat': lat, 'Long': lon, 'et0hs': mai, 'zonas': indetificação}\n",
    "jun = {'Lat': lat, 'Long': lon, 'et0hs': jun, 'zonas': indetificação}\n",
    "jul = {'Lat': lat, 'Long': lon, 'et0hs': jul, 'zonas': indetificação}\n",
    "ago = {'Lat': lat, 'Long': lon, 'et0hs': ago, 'zonas': indetificação}\n",
    "sete = {'Lat': lat, 'Long': lon, 'et0hs': sete, 'zonas': indetificação}\n",
    "out = {'Lat': lat, 'Long': lon, 'et0hs': out, 'zonas': indetificação}\n",
    "nov = {'Lat': lat, 'Long': lon, 'et0hs': nov, 'zonas': indetificação}\n",
    "dez = {'Lat': lat, 'Long': lon, 'et0hs': dez, 'zonas': indetificação}\n",
    "\n",
    "print('Concluido!')"
   ]
  },
  {
   "cell_type": "code",
   "execution_count": 21,
   "metadata": {},
   "outputs": [
    {
     "name": "stdout",
     "output_type": "stream",
     "text": [
      "Concluido!\n"
     ]
    }
   ],
   "source": [
    "#Criando DFs:\n",
    "df_jan = pd.DataFrame(data=jan)\n",
    "df_fev = pd.DataFrame(data=fev)\n",
    "df_mar = pd.DataFrame(data=mar)\n",
    "df_abr = pd.DataFrame(data=abr)\n",
    "df_mai = pd.DataFrame(data=mai)\n",
    "df_jun = pd.DataFrame(data=jun)\n",
    "df_jul = pd.DataFrame(data=jul)\n",
    "df_ago = pd.DataFrame(data=ago)\n",
    "df_sete = pd.DataFrame(data=sete)\n",
    "df_out = pd.DataFrame(data=out)\n",
    "df_nov = pd.DataFrame(data=nov)\n",
    "df_dez = pd.DataFrame(data=dez)\n",
    "\n",
    "print('Concluido!')"
   ]
  },
  {
   "cell_type": "code",
   "execution_count": 22,
   "metadata": {},
   "outputs": [
    {
     "name": "stdout",
     "output_type": "stream",
     "text": [
      "Concluido!\n"
     ]
    }
   ],
   "source": [
    "#Salvar as médias mensais em arquivos csv:\n",
    "df_jan.to_csv(\"Arquivos csv - ET0HS reanalise/ET0HS_JANEIRO.csv\", index=False)\n",
    "df_fev.to_csv(\"Arquivos csv - ET0HS reanalise/ET0HS_FEVEREIRO.csv\", index=False)\n",
    "df_mar.to_csv(\"Arquivos csv - ET0HS reanalise/ET0HS_MARÇO.csv\", index=False)\n",
    "df_abr.to_csv(\"Arquivos csv - ET0HS reanalise/ET0HS_ABRIL.csv\", index=False)\n",
    "df_mai.to_csv(\"Arquivos csv - ET0HS reanalise/ET0HS_MAIO.csv\", index=False)\n",
    "df_jun.to_csv(\"Arquivos csv - ET0HS reanalise/ET0HS_JUNHO.csv\", index=False)\n",
    "df_jul.to_csv(\"Arquivos csv - ET0HS reanalise/ET0HS_JULHO.csv\", index=False)\n",
    "df_ago.to_csv(\"Arquivos csv - ET0HS reanalise/ET0HS_AGOSTO.csv\", index=False)\n",
    "df_sete.to_csv(\"Arquivos csv - ET0HS reanalise/ET0HS_SETEMBRO.csv\", index=False)\n",
    "df_out.to_csv(\"Arquivos csv - ET0HS reanalise/ET0HS_OUTUBRO.csv\", index=False)\n",
    "df_nov.to_csv(\"Arquivos csv - ET0HS reanalise/ET0HS_NOVEMBRO.csv\", index=False)\n",
    "df_dez.to_csv(\"Arquivos csv - ET0HS reanalise/ET0HS_DEZEMBRO.csv\", index=False)\n",
    "\n",
    "print('Concluido!')"
   ]
  },
  {
   "cell_type": "code",
   "execution_count": null,
   "metadata": {},
   "outputs": [],
   "source": []
  }
 ],
 "metadata": {
  "interpreter": {
   "hash": "fc82fab16f5913374afb6b87750d22e39cfa13add37f9c67c0b9eb640cfc5293"
  },
  "kernelspec": {
   "display_name": "Python 3.7.6 64-bit ('base': conda)",
   "name": "python3"
  },
  "language_info": {
   "codemirror_mode": {
    "name": "ipython",
    "version": 3
   },
   "file_extension": ".py",
   "mimetype": "text/x-python",
   "name": "python",
   "nbconvert_exporter": "python",
   "pygments_lexer": "ipython3",
   "version": "3.7.6"
  }
 },
 "nbformat": 4,
 "nbformat_minor": 4
}
