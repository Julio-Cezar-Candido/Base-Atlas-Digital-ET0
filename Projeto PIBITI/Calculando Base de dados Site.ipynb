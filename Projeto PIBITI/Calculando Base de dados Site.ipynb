{
 "cells": [
  {
   "cell_type": "code",
   "execution_count": 1,
   "source": [
    "#Importar bibliotecas:\r\n",
    "import pandas as pd\r\n",
    "import numpy as np\r\n",
    "import datetime\r\n",
    "from tqdm import trange #barra de progresso"
   ],
   "outputs": [],
   "metadata": {}
  },
  {
   "cell_type": "code",
   "execution_count": 2,
   "source": [
    "#Função para cálcular a IRRADIÂNCIA SOLAR EXTRATERRESTRE (MJ/m² . dia):\r\n",
    "def getRadian(latitude, dia_juliano):\r\n",
    "    latitude -= -1.25\r\n",
    "    latitude = np.radians(latitude)\r\n",
    "    inclinacao = np.radians(23.45) * np.sin (((np.radians(360) / 365) * (284 + dia_juliano)))\r\n",
    "    hn = np.arccos((-np.tan(latitude)) * np.tan(inclinacao))\r\n",
    "    radAtm = 37.6 * (( hn *  np.sin(latitude) * np.sin(inclinacao)) + ( np.cos(latitude) * np.cos(inclinacao) * np.sin(hn) )  )\r\n",
    "    return radAtm"
   ],
   "outputs": [],
   "metadata": {}
  },
  {
   "cell_type": "code",
   "execution_count": 3,
   "source": [
    "#Importando dados:\r\n",
    "df_tmed = pd.read_excel('Banco de dados Site/TEMPERATURA_MEDIA.xlsx')\r\n",
    "df_tmax_tmin = pd.read_excel('Banco de dados Site/TEMPERATURA_MIN_MAX.xlsx')\r\n",
    "df_umid = pd.read_excel('Banco de dados Site/UMIDADE.xlsx')\r\n",
    "\r\n",
    "print('Concluido!')"
   ],
   "outputs": [
    {
     "output_type": "stream",
     "name": "stdout",
     "text": [
      "Concluido!\n"
     ]
    }
   ],
   "metadata": {}
  },
  {
   "cell_type": "code",
   "execution_count": 4,
   "source": [
    "#Convertendo as Temp de \"Kº\" para \"Cº\":\r\n",
    "\r\n",
    "#Temperatura Média:\r\n",
    "df_tmed['LONG_307,5'] -= 273.15\r\n",
    "df_tmed['LONG_310'] -= 273.15\r\n",
    "df_tmed['LONG_312,5'] -= 273.15\r\n",
    "\r\n",
    "#Temperatura Mínina e Máxima:\r\n",
    "df_tmax_tmin['LONG_307,5'] -= 273.15\r\n",
    "df_tmax_tmin['LONG_310'] -= 273.15\r\n",
    "df_tmax_tmin['LONG_312,5'] -= 273.15\r\n",
    "\r\n",
    "print('Concluido!')"
   ],
   "outputs": [
    {
     "output_type": "stream",
     "name": "stdout",
     "text": [
      "Concluido!\n"
     ]
    }
   ],
   "metadata": {}
  },
  {
   "cell_type": "code",
   "execution_count": 5,
   "source": [
    "#Criando colunas de \"DIA\" e \"MÊS\":\r\n",
    "df_tmed['DIA DO MÊS'] = pd.DatetimeIndex(df_tmed['DIA']).day\r\n",
    "df_tmax_tmin['DIA DO MÊS'] = pd.DatetimeIndex(df_tmax_tmin['DIA']).day\r\n",
    "df_umid['DIA DO MÊS'] = pd.DatetimeIndex(df_umid['DIA']).day\r\n",
    "\r\n",
    "df_tmed['MÊS'] = pd.DatetimeIndex(df_tmed['DIA']).month\r\n",
    "df_tmax_tmin['MÊS'] = pd.DatetimeIndex(df_tmax_tmin['DIA']).month\r\n",
    "df_umid['MÊS'] = pd.DatetimeIndex(df_umid['DIA']).month\r\n",
    "\r\n",
    "print('Concluido!')"
   ],
   "outputs": [
    {
     "output_type": "stream",
     "name": "stdout",
     "text": [
      "Concluido!\n"
     ]
    }
   ],
   "metadata": {}
  },
  {
   "cell_type": "code",
   "execution_count": 6,
   "source": [
    "#Testando dados:\r\n",
    "df_tmax_tmin"
   ],
   "outputs": [
    {
     "output_type": "execute_result",
     "data": {
      "text/html": [
       "<div>\n",
       "<style scoped>\n",
       "    .dataframe tbody tr th:only-of-type {\n",
       "        vertical-align: middle;\n",
       "    }\n",
       "\n",
       "    .dataframe tbody tr th {\n",
       "        vertical-align: top;\n",
       "    }\n",
       "\n",
       "    .dataframe thead th {\n",
       "        text-align: right;\n",
       "    }\n",
       "</style>\n",
       "<table border=\"1\" class=\"dataframe\">\n",
       "  <thead>\n",
       "    <tr style=\"text-align: right;\">\n",
       "      <th></th>\n",
       "      <th>DIA</th>\n",
       "      <th>MAX ou MIN</th>\n",
       "      <th>LATITUDE</th>\n",
       "      <th>LONG_307,5</th>\n",
       "      <th>LONG_310</th>\n",
       "      <th>LONG_312,5</th>\n",
       "      <th>DIA DO MÊS</th>\n",
       "      <th>MÊS</th>\n",
       "    </tr>\n",
       "  </thead>\n",
       "  <tbody>\n",
       "    <tr>\n",
       "      <th>0</th>\n",
       "      <td>1989-01-01</td>\n",
       "      <td>MINIMA</td>\n",
       "      <td>-5.0</td>\n",
       "      <td>21.65000</td>\n",
       "      <td>22.15000</td>\n",
       "      <td>21.35000</td>\n",
       "      <td>1</td>\n",
       "      <td>1</td>\n",
       "    </tr>\n",
       "    <tr>\n",
       "      <th>1</th>\n",
       "      <td>1989-01-01</td>\n",
       "      <td>MINIMA</td>\n",
       "      <td>-7.5</td>\n",
       "      <td>20.95000</td>\n",
       "      <td>22.05000</td>\n",
       "      <td>21.85000</td>\n",
       "      <td>1</td>\n",
       "      <td>1</td>\n",
       "    </tr>\n",
       "    <tr>\n",
       "      <th>2</th>\n",
       "      <td>1989-01-01</td>\n",
       "      <td>MINIMA</td>\n",
       "      <td>-10.0</td>\n",
       "      <td>21.45000</td>\n",
       "      <td>22.25002</td>\n",
       "      <td>21.75002</td>\n",
       "      <td>1</td>\n",
       "      <td>1</td>\n",
       "    </tr>\n",
       "    <tr>\n",
       "      <th>3</th>\n",
       "      <td>1989-01-01</td>\n",
       "      <td>MINIMA</td>\n",
       "      <td>-12.5</td>\n",
       "      <td>22.45000</td>\n",
       "      <td>22.85000</td>\n",
       "      <td>20.95000</td>\n",
       "      <td>1</td>\n",
       "      <td>1</td>\n",
       "    </tr>\n",
       "    <tr>\n",
       "      <th>4</th>\n",
       "      <td>1989-01-01</td>\n",
       "      <td>MAXIMA</td>\n",
       "      <td>-5.0</td>\n",
       "      <td>24.45000</td>\n",
       "      <td>24.75002</td>\n",
       "      <td>24.55000</td>\n",
       "      <td>1</td>\n",
       "      <td>1</td>\n",
       "    </tr>\n",
       "    <tr>\n",
       "      <th>...</th>\n",
       "      <td>...</td>\n",
       "      <td>...</td>\n",
       "      <td>...</td>\n",
       "      <td>...</td>\n",
       "      <td>...</td>\n",
       "      <td>...</td>\n",
       "      <td>...</td>\n",
       "      <td>...</td>\n",
       "    </tr>\n",
       "    <tr>\n",
       "      <th>90571</th>\n",
       "      <td>2019-12-31</td>\n",
       "      <td>MINIMA</td>\n",
       "      <td>-12.5</td>\n",
       "      <td>23.04998</td>\n",
       "      <td>23.15000</td>\n",
       "      <td>21.84997</td>\n",
       "      <td>31</td>\n",
       "      <td>12</td>\n",
       "    </tr>\n",
       "    <tr>\n",
       "      <th>90572</th>\n",
       "      <td>2019-12-31</td>\n",
       "      <td>MAXIMA</td>\n",
       "      <td>-5.0</td>\n",
       "      <td>23.84997</td>\n",
       "      <td>24.54998</td>\n",
       "      <td>24.65000</td>\n",
       "      <td>31</td>\n",
       "      <td>12</td>\n",
       "    </tr>\n",
       "    <tr>\n",
       "      <th>90573</th>\n",
       "      <td>2019-12-31</td>\n",
       "      <td>MAXIMA</td>\n",
       "      <td>-7.5</td>\n",
       "      <td>23.15000</td>\n",
       "      <td>24.15000</td>\n",
       "      <td>24.54998</td>\n",
       "      <td>31</td>\n",
       "      <td>12</td>\n",
       "    </tr>\n",
       "    <tr>\n",
       "      <th>90574</th>\n",
       "      <td>2019-12-31</td>\n",
       "      <td>MAXIMA</td>\n",
       "      <td>-10.0</td>\n",
       "      <td>24.24996</td>\n",
       "      <td>24.84997</td>\n",
       "      <td>23.65000</td>\n",
       "      <td>31</td>\n",
       "      <td>12</td>\n",
       "    </tr>\n",
       "    <tr>\n",
       "      <th>90575</th>\n",
       "      <td>2019-12-31</td>\n",
       "      <td>MAXIMA</td>\n",
       "      <td>-12.5</td>\n",
       "      <td>25.54998</td>\n",
       "      <td>25.74996</td>\n",
       "      <td>23.54998</td>\n",
       "      <td>31</td>\n",
       "      <td>12</td>\n",
       "    </tr>\n",
       "  </tbody>\n",
       "</table>\n",
       "<p>90576 rows × 8 columns</p>\n",
       "</div>"
      ],
      "text/plain": [
       "             DIA MAX ou MIN  LATITUDE  LONG_307,5  LONG_310  LONG_312,5  \\\n",
       "0     1989-01-01     MINIMA      -5.0    21.65000  22.15000    21.35000   \n",
       "1     1989-01-01     MINIMA      -7.5    20.95000  22.05000    21.85000   \n",
       "2     1989-01-01     MINIMA     -10.0    21.45000  22.25002    21.75002   \n",
       "3     1989-01-01     MINIMA     -12.5    22.45000  22.85000    20.95000   \n",
       "4     1989-01-01     MAXIMA      -5.0    24.45000  24.75002    24.55000   \n",
       "...          ...        ...       ...         ...       ...         ...   \n",
       "90571 2019-12-31     MINIMA     -12.5    23.04998  23.15000    21.84997   \n",
       "90572 2019-12-31     MAXIMA      -5.0    23.84997  24.54998    24.65000   \n",
       "90573 2019-12-31     MAXIMA      -7.5    23.15000  24.15000    24.54998   \n",
       "90574 2019-12-31     MAXIMA     -10.0    24.24996  24.84997    23.65000   \n",
       "90575 2019-12-31     MAXIMA     -12.5    25.54998  25.74996    23.54998   \n",
       "\n",
       "       DIA DO MÊS  MÊS  \n",
       "0               1    1  \n",
       "1               1    1  \n",
       "2               1    1  \n",
       "3               1    1  \n",
       "4               1    1  \n",
       "...           ...  ...  \n",
       "90571          31   12  \n",
       "90572          31   12  \n",
       "90573          31   12  \n",
       "90574          31   12  \n",
       "90575          31   12  \n",
       "\n",
       "[90576 rows x 8 columns]"
      ]
     },
     "metadata": {},
     "execution_count": 6
    }
   ],
   "metadata": {}
  },
  {
   "cell_type": "code",
   "execution_count": 7,
   "source": [
    "#Fazendo a média de cada dia (01/01, 02/01, ..., 30/12, 31/12) em todos os anos para cada DF:\r\n",
    "\r\n",
    "df_tmed = df_tmed.groupby(['LATITUDE', 'MÊS', 'DIA DO MÊS',]).agg({'LONG_307,5': np.mean, 'LONG_310': np.mean, 'LONG_312,5': np.mean})\r\n",
    "df_tmax_tmin = df_tmax_tmin.groupby(['LATITUDE', 'MÊS', 'DIA DO MÊS', 'MAX ou MIN']).agg({'LONG_307,5': np.mean, 'LONG_310': np.mean, 'LONG_312,5': np.mean})\r\n",
    "df_umid = df_umid.groupby(['LATITUDE', 'MÊS', 'DIA DO MÊS',]).agg({'LONG_307,5': np.mean, 'LONG_310': np.mean, 'LONG_312,5': np.mean})\r\n",
    "\r\n",
    "print('Concluido!')"
   ],
   "outputs": [
    {
     "output_type": "stream",
     "name": "stdout",
     "text": [
      "Concluido!\n"
     ]
    }
   ],
   "metadata": {}
  },
  {
   "cell_type": "code",
   "execution_count": 8,
   "source": [
    "#adicionando dia juliano ao df_umid para calcular o \"radA\":\r\n",
    "dia_juliano = []\r\n",
    "for i in trange(1, 367):\r\n",
    "    dia_juliano.append(i)\r\n",
    "df_umid['DIA JULIANO'] = dia_juliano * 4\r\n",
    "\r\n",
    "print('Concluido!')"
   ],
   "outputs": [
    {
     "output_type": "stream",
     "name": "stderr",
     "text": [
      "100%|██████████| 366/366 [00:00<00:00, 158635.45it/s]"
     ]
    },
    {
     "output_type": "stream",
     "name": "stdout",
     "text": [
      "Concluido!\n"
     ]
    },
    {
     "output_type": "stream",
     "name": "stderr",
     "text": [
      "\n"
     ]
    }
   ],
   "metadata": {}
  },
  {
   "cell_type": "code",
   "execution_count": 9,
   "source": [
    "#chamando dados:\r\n",
    "df_tmax_tmin['LONG_307,5'][-5.0][1][1]['MAXIMA']"
   ],
   "outputs": [
    {
     "output_type": "execute_result",
     "data": {
      "text/plain": [
       "24.640646451612934"
      ]
     },
     "metadata": {},
     "execution_count": 9
    }
   ],
   "metadata": {}
  },
  {
   "cell_type": "code",
   "execution_count": 10,
   "source": [
    "#Salvar dados em Dicts:\r\n",
    "tmed = {'zona1' : [], 'zona2' : [], 'zona3' : [], 'zona4' : [], 'zona5' : [], 'zona6' : [], 'zona7' : [], 'zona8' : [], 'zona9' : [], 'zona10' : [], 'zona11' : [], 'zona12' : []}\r\n",
    "tmin = {'zona1' : [], 'zona2' : [], 'zona3' : [], 'zona4' : [], 'zona5' : [], 'zona6' : [], 'zona7' : [], 'zona8' : [], 'zona9' : [], 'zona10' : [], 'zona11' : [], 'zona12' : []}\r\n",
    "tmax = {'zona1' : [], 'zona2' : [], 'zona3' : [], 'zona4' : [], 'zona5' : [], 'zona6' : [], 'zona7' : [], 'zona8' : [], 'zona9' : [], 'zona10' : [], 'zona11' : [], 'zona12' : []}\r\n",
    "umid = {'zona1' : [], 'zona2' : [], 'zona3' : [], 'zona4' : [], 'zona5' : [], 'zona6' : [], 'zona7' : [], 'zona8' : [], 'zona9' : [], 'zona10' : [], 'zona11' : [], 'zona12' : []}\r\n",
    "radA = {'zona1' : [], 'zona2' : [], 'zona3' : [], 'zona4' : [], 'zona5' : [], 'zona6' : [], 'zona7' : [], 'zona8' : [], 'zona9' : [], 'zona10' : [], 'zona11' : [], 'zona12' : []}\r\n",
    "\r\n",
    "#Listas auxiliares:\r\n",
    "latitude = [-5.0, -7.5, -10.0, -12.5]\r\n",
    "longitude = ['LONG_307,5', 'LONG_310', 'LONG_312,5']\r\n",
    "max_min = ['MAXIMA', 'MINIMA']\r\n",
    "\r\n",
    "#Entrar em cada coluna de longitude:\r\n",
    "for long in trange(0, 3):\r\n",
    "    \r\n",
    "    #Entrar em cada indice de latitude:\r\n",
    "    for lati in range(0, 4):\r\n",
    "        \r\n",
    "        #Entrar em cada indice de mês:\r\n",
    "        for mês in range(1, 13):\r\n",
    "            \r\n",
    "            #definir quantidade de dias no mês:\r\n",
    "            if mês in [1, 3, 5, 7, 8, 10, 12]:\r\n",
    "                qtd_dia = 32\r\n",
    "            elif mês == 2:\r\n",
    "                qtd_dia = 30\r\n",
    "            else:\r\n",
    "                qtd_dia = 31\r\n",
    "                \r\n",
    "            #Entrar em cada indice de dia:\r\n",
    "            for dia in range(1, qtd_dia):\r\n",
    "                \r\n",
    "                #Salvar dados de temperatura média, umidade, radiação de cada dia separado por zona:\r\n",
    "                if lati == 0 and long == 0:\r\n",
    "                    tmed['zona1'].append(df_tmed[longitude[long]][latitude[lati]][mês][dia])\r\n",
    "                    umid['zona1'].append(df_umid[longitude[long]][latitude[lati]][mês][dia])\r\n",
    "                    radA['zona1'].append(getRadian(latitude[lati], df_umid['DIA JULIANO'][latitude[lati]][mês][dia]))\r\n",
    "                elif lati == 0 and long == 1:\r\n",
    "                    tmed['zona2'].append(df_tmed[longitude[long]][latitude[lati]][mês][dia])\r\n",
    "                    umid['zona2'].append(df_umid[longitude[long]][latitude[lati]][mês][dia])\r\n",
    "                    radA['zona2'].append(getRadian(latitude[lati], df_umid['DIA JULIANO'][latitude[lati]][mês][dia]))\r\n",
    "                elif lati == 0 and long == 2:\r\n",
    "                    tmed['zona3'].append(df_tmed[longitude[long]][latitude[lati]][mês][dia])\r\n",
    "                    umid['zona3'].append(df_umid[longitude[long]][latitude[lati]][mês][dia])\r\n",
    "                    radA['zona3'].append(getRadian(latitude[lati], df_umid['DIA JULIANO'][latitude[lati]][mês][dia]))\r\n",
    "                elif lati == 1 and long == 0:\r\n",
    "                    tmed['zona4'].append(df_tmed[longitude[long]][latitude[lati]][mês][dia])\r\n",
    "                    umid['zona4'].append(df_umid[longitude[long]][latitude[lati]][mês][dia])\r\n",
    "                    radA['zona4'].append(getRadian(latitude[lati], df_umid['DIA JULIANO'][latitude[lati]][mês][dia]))\r\n",
    "                elif lati == 1 and long == 1:\r\n",
    "                    tmed['zona5'].append(df_tmed[longitude[long]][latitude[lati]][mês][dia])\r\n",
    "                    umid['zona5'].append(df_umid[longitude[long]][latitude[lati]][mês][dia])\r\n",
    "                    radA['zona5'].append(getRadian(latitude[lati], df_umid['DIA JULIANO'][latitude[lati]][mês][dia]))\r\n",
    "                elif lati == 1 and long == 2:\r\n",
    "                    tmed['zona6'].append(df_tmed[longitude[long]][latitude[lati]][mês][dia])\r\n",
    "                    umid['zona6'].append(df_umid[longitude[long]][latitude[lati]][mês][dia])\r\n",
    "                    radA['zona6'].append(getRadian(latitude[lati], df_umid['DIA JULIANO'][latitude[lati]][mês][dia]))\r\n",
    "                elif lati == 2 and long == 0:\r\n",
    "                    tmed['zona7'].append(df_tmed[longitude[long]][latitude[lati]][mês][dia])\r\n",
    "                    umid['zona7'].append(df_umid[longitude[long]][latitude[lati]][mês][dia])\r\n",
    "                    radA['zona7'].append(getRadian(latitude[lati], df_umid['DIA JULIANO'][latitude[lati]][mês][dia]))\r\n",
    "                elif lati == 2 and long == 1:\r\n",
    "                    tmed['zona8'].append(df_tmed[longitude[long]][latitude[lati]][mês][dia])\r\n",
    "                    umid['zona8'].append(df_umid[longitude[long]][latitude[lati]][mês][dia])\r\n",
    "                    radA['zona8'].append(getRadian(latitude[lati], df_umid['DIA JULIANO'][latitude[lati]][mês][dia]))\r\n",
    "                elif lati == 2 and long == 2:\r\n",
    "                    tmed['zona9'].append(df_tmed[longitude[long]][latitude[lati]][mês][dia])\r\n",
    "                    umid['zona9'].append(df_umid[longitude[long]][latitude[lati]][mês][dia])\r\n",
    "                    radA['zona9'].append(getRadian(latitude[lati], df_umid['DIA JULIANO'][latitude[lati]][mês][dia]))\r\n",
    "                elif lati == 3 and long == 0:\r\n",
    "                    tmed['zona10'].append(df_tmed[longitude[long]][latitude[lati]][mês][dia])\r\n",
    "                    umid['zona10'].append(df_umid[longitude[long]][latitude[lati]][mês][dia])\r\n",
    "                    radA['zona10'].append(getRadian(latitude[lati], df_umid['DIA JULIANO'][latitude[lati]][mês][dia]))\r\n",
    "                elif lati == 3 and long == 1:\r\n",
    "                    tmed['zona11'].append(df_tmed[longitude[long]][latitude[lati]][mês][dia])\r\n",
    "                    umid['zona11'].append(df_umid[longitude[long]][latitude[lati]][mês][dia])\r\n",
    "                    radA['zona11'].append(getRadian(latitude[lati], df_umid['DIA JULIANO'][latitude[lati]][mês][dia]))\r\n",
    "                elif lati == 3 and long == 2:\r\n",
    "                    tmed['zona12'].append(df_tmed[longitude[long]][latitude[lati]][mês][dia])\r\n",
    "                    umid['zona12'].append(df_umid[longitude[long]][latitude[lati]][mês][dia])\r\n",
    "                    radA['zona12'].append(getRadian(latitude[lati], df_umid['DIA JULIANO'][latitude[lati]][mês][dia]))\r\n",
    "                \r\n",
    "                #entrar em cada tipo de temperatura (MAXIMA ou MINIMA):\r\n",
    "                for tipoTemp in range(0, 2):\r\n",
    "                    \r\n",
    "                    #Salvar dados de temperatura máxima de cada dia separado por zona:\r\n",
    "                    if tipoTemp == 0:\r\n",
    "                        if lati == 0 and long == 0:\r\n",
    "                            tmax['zona1'].append(df_tmax_tmin[longitude[long]][latitude[lati]][mês][dia][max_min[tipoTemp]])\r\n",
    "                        elif lati == 0 and long == 1:\r\n",
    "                            tmax['zona2'].append(df_tmax_tmin[longitude[long]][latitude[lati]][mês][dia][max_min[tipoTemp]])\r\n",
    "                        elif lati == 0 and long == 2:\r\n",
    "                            tmax['zona3'].append(df_tmax_tmin[longitude[long]][latitude[lati]][mês][dia][max_min[tipoTemp]])\r\n",
    "                        elif lati == 1 and long == 0:\r\n",
    "                            tmax['zona4'].append(df_tmax_tmin[longitude[long]][latitude[lati]][mês][dia][max_min[tipoTemp]])\r\n",
    "                        elif lati == 1 and long == 1:\r\n",
    "                            tmax['zona5'].append(df_tmax_tmin[longitude[long]][latitude[lati]][mês][dia][max_min[tipoTemp]])\r\n",
    "                        elif lati == 1 and long == 2:\r\n",
    "                            tmax['zona6'].append(df_tmax_tmin[longitude[long]][latitude[lati]][mês][dia][max_min[tipoTemp]])\r\n",
    "                        elif lati == 2 and long == 0:\r\n",
    "                            tmax['zona7'].append(df_tmax_tmin[longitude[long]][latitude[lati]][mês][dia][max_min[tipoTemp]])\r\n",
    "                        elif lati == 2 and long == 1:\r\n",
    "                            tmax['zona8'].append(df_tmax_tmin[longitude[long]][latitude[lati]][mês][dia][max_min[tipoTemp]])\r\n",
    "                        elif lati == 2 and long == 2:\r\n",
    "                            tmax['zona9'].append(df_tmax_tmin[longitude[long]][latitude[lati]][mês][dia][max_min[tipoTemp]])\r\n",
    "                        elif lati == 3 and long == 0:\r\n",
    "                            tmax['zona10'].append(df_tmax_tmin[longitude[long]][latitude[lati]][mês][dia][max_min[tipoTemp]])\r\n",
    "                        elif lati == 3 and long == 1:\r\n",
    "                            tmax['zona11'].append(df_tmax_tmin[longitude[long]][latitude[lati]][mês][dia][max_min[tipoTemp]])\r\n",
    "                        elif lati == 3 and long == 2:\r\n",
    "                            tmax['zona12'].append(df_tmax_tmin[longitude[long]][latitude[lati]][mês][dia][max_min[tipoTemp]])\r\n",
    "                            \r\n",
    "                    #Salvar dados de temperatura mínima de cada dia separado por zona:\r\n",
    "                    else:\r\n",
    "                        if lati == 0 and long == 0:\r\n",
    "                            tmin['zona1'].append(df_tmax_tmin[longitude[long]][latitude[lati]][mês][dia][max_min[tipoTemp]])\r\n",
    "                        elif lati == 0 and long == 1:\r\n",
    "                            tmin['zona2'].append(df_tmax_tmin[longitude[long]][latitude[lati]][mês][dia][max_min[tipoTemp]])\r\n",
    "                        elif lati == 0 and long == 2:\r\n",
    "                            tmin['zona3'].append(df_tmax_tmin[longitude[long]][latitude[lati]][mês][dia][max_min[tipoTemp]])\r\n",
    "                        elif lati == 1 and long == 0:\r\n",
    "                            tmin['zona4'].append(df_tmax_tmin[longitude[long]][latitude[lati]][mês][dia][max_min[tipoTemp]])\r\n",
    "                        elif lati == 1 and long == 1:\r\n",
    "                            tmin['zona5'].append(df_tmax_tmin[longitude[long]][latitude[lati]][mês][dia][max_min[tipoTemp]])\r\n",
    "                        elif lati == 1 and long == 2:\r\n",
    "                            tmin['zona6'].append(df_tmax_tmin[longitude[long]][latitude[lati]][mês][dia][max_min[tipoTemp]])\r\n",
    "                        elif lati == 2 and long == 0:\r\n",
    "                            tmin['zona7'].append(df_tmax_tmin[longitude[long]][latitude[lati]][mês][dia][max_min[tipoTemp]])\r\n",
    "                        elif lati == 2 and long == 1:\r\n",
    "                            tmin['zona8'].append(df_tmax_tmin[longitude[long]][latitude[lati]][mês][dia][max_min[tipoTemp]])\r\n",
    "                        elif lati == 2 and long == 2:\r\n",
    "                            tmin['zona9'].append(df_tmax_tmin[longitude[long]][latitude[lati]][mês][dia][max_min[tipoTemp]])\r\n",
    "                        elif lati == 3 and long == 0:\r\n",
    "                            tmin['zona10'].append(df_tmax_tmin[longitude[long]][latitude[lati]][mês][dia][max_min[tipoTemp]])\r\n",
    "                        elif lati == 3 and long == 1:\r\n",
    "                            tmin['zona11'].append(df_tmax_tmin[longitude[long]][latitude[lati]][mês][dia][max_min[tipoTemp]])\r\n",
    "                        elif lati == 3 and long == 2:\r\n",
    "                            tmin['zona12'].append(df_tmax_tmin[longitude[long]][latitude[lati]][mês][dia][max_min[tipoTemp]])\r\n",
    "                        \r\n",
    "print('Concluido!')                        "
   ],
   "outputs": [
    {
     "output_type": "stream",
     "name": "stderr",
     "text": [
      "100%|██████████| 3/3 [00:50<00:00, 16.73s/it]"
     ]
    },
    {
     "output_type": "stream",
     "name": "stdout",
     "text": [
      "Concluido!\n"
     ]
    },
    {
     "output_type": "stream",
     "name": "stderr",
     "text": [
      "\n"
     ]
    }
   ],
   "metadata": {}
  },
  {
   "cell_type": "code",
   "execution_count": 11,
   "source": [
    "#['ET0IV'] = (0.006 * (((25 + (Temp Média))** 2) * (1 - (Umidade'/ 100))))\r\n",
    "def evapoIV(temp_med, umid):\r\n",
    "    et0IV = 0.006 * ( ( (25 + temp_med ) ** 2) * (1 - (umid / 100) )  )\r\n",
    "    return et0IV\r\n",
    "\r\n",
    "#['ET0HS'] = 0.0023 * (radAtm  / 2.45) * (np.sqrt(tpmax - tpmin)) * (media_dia_temperatura + 17.8)\r\n",
    "def evapoHS(radiacao, temp_max, temp_min, temp_med):\r\n",
    "    et0HS = 0.0023 * (radiacao / 2.45) * (np.sqrt (temp_max - temp_min)) * (temp_med + 17.8)\r\n",
    "    return et0HS"
   ],
   "outputs": [],
   "metadata": {}
  },
  {
   "cell_type": "code",
   "execution_count": 12,
   "source": [
    "#Cálcular ET0 e salvar dados em DF para cada zona:\r\n",
    "\r\n",
    "#Dicts para salvar as ET0:\r\n",
    "et0IV = {'zona1' : [], 'zona2' : [], 'zona3' : [], 'zona4' : [], 'zona5' : [], 'zona6' : [], 'zona7' : [], 'zona8' : [], 'zona9' : [], 'zona10' : [], 'zona11' : [], 'zona12' : []}\r\n",
    "et0HS = {'zona1' : [], 'zona2' : [], 'zona3' : [], 'zona4' : [], 'zona5' : [], 'zona6' : [], 'zona7' : [], 'zona8' : [], 'zona9' : [], 'zona10' : [], 'zona11' : [], 'zona12' : []}\r\n",
    "\r\n",
    "#Lista auxiliar:\r\n",
    "zonas = ['zona1', 'zona2', 'zona3', 'zona4', 'zona5', 'zona6', 'zona7', 'zona8', 'zona9', 'zona10', 'zona11', 'zona12']\r\n",
    "\r\n",
    "#Entra em cada zona:\r\n",
    "for zona in trange(12):\r\n",
    "    \r\n",
    "    #Entra em cada dia e realiza os cálculos:\r\n",
    "    for dia in range(366):\r\n",
    "        et0IV[zonas[zona]].append(evapoIV(tmed[zonas[zona]][dia], umid[zonas[zona]][dia]))\r\n",
    "        et0HS[zonas[zona]].append(evapoHS(radA[zonas[zona]][dia], tmax[zonas[zona]][dia], tmin[zonas[zona]][dia], tmed[zonas[zona]][dia]))\r\n",
    "\r\n",
    "print('Concluido!')"
   ],
   "outputs": [
    {
     "output_type": "stream",
     "name": "stderr",
     "text": [
      "100%|██████████| 12/12 [00:00<00:00, 186.73it/s]"
     ]
    },
    {
     "output_type": "stream",
     "name": "stdout",
     "text": [
      "Concluido!\n"
     ]
    },
    {
     "output_type": "stream",
     "name": "stderr",
     "text": [
      "\n"
     ]
    }
   ],
   "metadata": {}
  },
  {
   "cell_type": "code",
   "execution_count": 13,
   "source": [
    "et0HS['zona5'][166]"
   ],
   "outputs": [
    {
     "output_type": "execute_result",
     "data": {
      "text/plain": [
       "3.095065943813724"
      ]
     },
     "metadata": {},
     "execution_count": 13
    }
   ],
   "metadata": {}
  },
  {
   "cell_type": "code",
   "execution_count": 14,
   "source": [
    "et0HS['zona4'][166]"
   ],
   "outputs": [
    {
     "output_type": "execute_result",
     "data": {
      "text/plain": [
       "2.889725818959151"
      ]
     },
     "metadata": {},
     "execution_count": 14
    }
   ],
   "metadata": {}
  },
  {
   "cell_type": "code",
   "execution_count": 15,
   "source": [
    "#Salvar cvs dos dados:\r\n",
    "df_tmed = pd.DataFrame(tmed)\r\n",
    "df_tmin = pd.DataFrame(tmin)\r\n",
    "df_tmax = pd.DataFrame(tmax)\r\n",
    "df_umid = pd.DataFrame(umid)\r\n",
    "df_radA = pd.DataFrame(radA)\r\n",
    "df_ET0IV = pd.DataFrame(et0IV)\r\n",
    "df_ET0HS = pd.DataFrame(et0HS)\r\n",
    "\r\n",
    "print('Concluido!')"
   ],
   "outputs": [
    {
     "output_type": "stream",
     "name": "stdout",
     "text": [
      "Concluido!\n"
     ]
    }
   ],
   "metadata": {}
  },
  {
   "cell_type": "code",
   "execution_count": 16,
   "source": [
    "#Criando planilha para salvar os dados:\r\n",
    "writer = pd.ExcelWriter('Tabelas_Resultados_Finais.xlsx', engine='xlsxwriter')\r\n",
    "\r\n",
    "print('Concluido!')"
   ],
   "outputs": [
    {
     "output_type": "stream",
     "name": "stdout",
     "text": [
      "Concluido!\n"
     ]
    }
   ],
   "metadata": {}
  },
  {
   "cell_type": "code",
   "execution_count": 17,
   "source": [
    "#Salvando cada Dict em uma aba:\r\n",
    "df_tmed.to_excel(writer, sheet_name='TEMPERATURA MÉDIA (ºC)')\r\n",
    "df_tmin.to_excel(writer, sheet_name='TEMPERATURA MÍNIMA (ºC)')\r\n",
    "df_tmax.to_excel(writer, sheet_name='TEMPERATURA MÁXIMA (ºC)')\r\n",
    "df_umid.to_excel(writer, sheet_name='UMIDADE RELATIVA (%)')\r\n",
    "df_radA.to_excel(writer, sheet_name='RAD ATM (MJ . m2-1 . dia)')\r\n",
    "df_ET0IV.to_excel(writer, sheet_name='ET0 IVANOV')\r\n",
    "df_ET0HS.to_excel(writer, sheet_name='ET0 HARGREAVES-SAMANI')\r\n",
    "\r\n",
    "print('Concluido!')"
   ],
   "outputs": [
    {
     "output_type": "stream",
     "name": "stdout",
     "text": [
      "Concluido!\n"
     ]
    }
   ],
   "metadata": {}
  },
  {
   "cell_type": "code",
   "execution_count": 18,
   "source": [
    "#Salvando edição:\r\n",
    "writer.save()\r\n",
    "\r\n",
    "print('Concluido!')"
   ],
   "outputs": [
    {
     "output_type": "stream",
     "name": "stdout",
     "text": [
      "Concluido!\n"
     ]
    }
   ],
   "metadata": {}
  },
  {
   "cell_type": "code",
   "execution_count": 19,
   "source": [
    "#Cálcular médias mensais:\r\n",
    "\r\n",
    "#Criando Lista das médias:\r\n",
    "jan = []\r\n",
    "fev = []\r\n",
    "mar = []\r\n",
    "abr = []\r\n",
    "mai = []\r\n",
    "jun = []\r\n",
    "jul = []\r\n",
    "ago = []\r\n",
    "sete = []\r\n",
    "out = []\r\n",
    "nov = []\r\n",
    "dez = []\r\n",
    "\r\n",
    "#entra em cada zona:\r\n",
    "for zona in trange(12):\r\n",
    "    \r\n",
    "    #Contador auxiliar para achar o índice:\r\n",
    "    cont = -1\r\n",
    "    \r\n",
    "    #entra em cada mês\r\n",
    "    for mês in range(1, 13):\r\n",
    "        \r\n",
    "        #lista auxiliar para calcular a média de cada mês:\r\n",
    "        aux_media = []\r\n",
    "        \r\n",
    "        #Define a quantidade de dias em cada mês:\r\n",
    "        if mês in [1, 3, 5, 7, 8, 10, 12]:\r\n",
    "            qtd_dia = 32\r\n",
    "        elif mês == 2:\r\n",
    "            qtd_dia = 30\r\n",
    "        else:\r\n",
    "            qtd_dia = 31\r\n",
    "            \r\n",
    "        #entra em cada dia:\r\n",
    "        for dia in range(1, qtd_dia):\r\n",
    "\r\n",
    "            #contabiliza o dia:\r\n",
    "            cont += 1\r\n",
    "\r\n",
    "            #salva os valores diarios do mês:\r\n",
    "            aux_media.append(et0HS[zonas[zona]][cont])\r\n",
    "\r\n",
    "        #Tira a média do mês e salva:\r\n",
    "        if mês == 1:\r\n",
    "            jan.append(f'{np.mean(aux_media):.2f}')\r\n",
    "        elif mês == 2:\r\n",
    "            fev.append(f'{np.mean(aux_media):.2f}')\r\n",
    "        elif mês == 3:\r\n",
    "            mar.append(f'{np.mean(aux_media):.2f}')\r\n",
    "        elif mês == 4:\r\n",
    "            abr.append(f'{np.mean(aux_media):.2f}')\r\n",
    "        elif mês == 5:\r\n",
    "            mai.append(f'{np.mean(aux_media):.2f}')\r\n",
    "        elif mês == 6:\r\n",
    "            jun.append(f'{np.mean(aux_media):.2f}')\r\n",
    "        elif mês == 7:\r\n",
    "            jul.append(f'{np.mean(aux_media):.2f}')\r\n",
    "        elif mês == 8:\r\n",
    "            ago.append(f'{np.mean(aux_media):.2f}')\r\n",
    "        elif mês == 9:\r\n",
    "            sete.append(f'{np.mean(aux_media):.2f}')\r\n",
    "        elif mês == 10:\r\n",
    "            out.append(f'{np.mean(aux_media):.2f}')\r\n",
    "        elif mês == 11:\r\n",
    "            nov.append(f'{np.mean(aux_media):.2f}')\r\n",
    "        elif mês == 12:\r\n",
    "            dez.append(f'{np.mean(aux_media):.2f}')  \r\n",
    "            \r\n",
    "print('Concluido!')"
   ],
   "outputs": [
    {
     "output_type": "stream",
     "name": "stderr",
     "text": [
      "100%|██████████| 12/12 [00:00<00:00, 516.80it/s]"
     ]
    },
    {
     "output_type": "stream",
     "name": "stdout",
     "text": [
      "Concluido!\n"
     ]
    },
    {
     "output_type": "stream",
     "name": "stderr",
     "text": [
      "\n"
     ]
    }
   ],
   "metadata": {}
  },
  {
   "cell_type": "code",
   "execution_count": 20,
   "source": [
    "#Criando Dict de cada mês:\r\n",
    "\r\n",
    "lat = [-6.25, -6.25, -6.25, -8.75, -8.75, -8.75, -11.25, -11.25, -11.25, -13.75, -13.75, -13.75]\r\n",
    "lon = [-51.25, -48.75, -46.25, -51.25, -48.75, -46.25, -51.25, -48.75, -46.25, -51.25, -48.75, -46.25]\r\n",
    "indetificação = ['zona-um', 'zona-dois', 'zona-tres', 'zona-quatro', 'zona-cinco', 'zona-seis', 'zona-sete', 'zona-oito', 'zona-nove', 'zona-dez', 'zona-onze', 'zona-doze']\r\n",
    "\r\n",
    "jan = {'Lat': lat, 'Long': lon, 'et0hs': jan, 'zonas': indetificação}\r\n",
    "fev = {'Lat': lat, 'Long': lon, 'et0hs': fev, 'zonas': indetificação}\r\n",
    "mar = {'Lat': lat, 'Long': lon, 'et0hs': mar, 'zonas': indetificação}\r\n",
    "abr = {'Lat': lat, 'Long': lon, 'et0hs': abr, 'zonas': indetificação}\r\n",
    "mai = {'Lat': lat, 'Long': lon, 'et0hs': mai, 'zonas': indetificação}\r\n",
    "jun = {'Lat': lat, 'Long': lon, 'et0hs': jun, 'zonas': indetificação}\r\n",
    "jul = {'Lat': lat, 'Long': lon, 'et0hs': jul, 'zonas': indetificação}\r\n",
    "ago = {'Lat': lat, 'Long': lon, 'et0hs': ago, 'zonas': indetificação}\r\n",
    "sete = {'Lat': lat, 'Long': lon, 'et0hs': sete, 'zonas': indetificação}\r\n",
    "out = {'Lat': lat, 'Long': lon, 'et0hs': out, 'zonas': indetificação}\r\n",
    "nov = {'Lat': lat, 'Long': lon, 'et0hs': nov, 'zonas': indetificação}\r\n",
    "dez = {'Lat': lat, 'Long': lon, 'et0hs': dez, 'zonas': indetificação}\r\n",
    "\r\n",
    "print('Concluido!')"
   ],
   "outputs": [
    {
     "output_type": "stream",
     "name": "stdout",
     "text": [
      "Concluido!\n"
     ]
    }
   ],
   "metadata": {}
  },
  {
   "cell_type": "code",
   "execution_count": 21,
   "source": [
    "#Criando DFs:\r\n",
    "df_jan = pd.DataFrame(data=jan)\r\n",
    "df_fev = pd.DataFrame(data=fev)\r\n",
    "df_mar = pd.DataFrame(data=mar)\r\n",
    "df_abr = pd.DataFrame(data=abr)\r\n",
    "df_mai = pd.DataFrame(data=mai)\r\n",
    "df_jun = pd.DataFrame(data=jun)\r\n",
    "df_jul = pd.DataFrame(data=jul)\r\n",
    "df_ago = pd.DataFrame(data=ago)\r\n",
    "df_sete = pd.DataFrame(data=sete)\r\n",
    "df_out = pd.DataFrame(data=out)\r\n",
    "df_nov = pd.DataFrame(data=nov)\r\n",
    "df_dez = pd.DataFrame(data=dez)\r\n",
    "\r\n",
    "print('Concluido!')"
   ],
   "outputs": [
    {
     "output_type": "stream",
     "name": "stdout",
     "text": [
      "Concluido!\n"
     ]
    }
   ],
   "metadata": {}
  },
  {
   "cell_type": "code",
   "execution_count": 22,
   "source": [
    "#Salvar as médias mensais em arquivos csv:\r\n",
    "df_jan.to_csv(\"Arquivos csv - ET0HS reanalise/ET0HS_JANEIRO.csv\", index=False)\r\n",
    "df_fev.to_csv(\"Arquivos csv - ET0HS reanalise/ET0HS_FEVEREIRO.csv\", index=False)\r\n",
    "df_mar.to_csv(\"Arquivos csv - ET0HS reanalise/ET0HS_MARÇO.csv\", index=False)\r\n",
    "df_abr.to_csv(\"Arquivos csv - ET0HS reanalise/ET0HS_ABRIL.csv\", index=False)\r\n",
    "df_mai.to_csv(\"Arquivos csv - ET0HS reanalise/ET0HS_MAIO.csv\", index=False)\r\n",
    "df_jun.to_csv(\"Arquivos csv - ET0HS reanalise/ET0HS_JUNHO.csv\", index=False)\r\n",
    "df_jul.to_csv(\"Arquivos csv - ET0HS reanalise/ET0HS_JULHO.csv\", index=False)\r\n",
    "df_ago.to_csv(\"Arquivos csv - ET0HS reanalise/ET0HS_AGOSTO.csv\", index=False)\r\n",
    "df_sete.to_csv(\"Arquivos csv - ET0HS reanalise/ET0HS_SETEMBRO.csv\", index=False)\r\n",
    "df_out.to_csv(\"Arquivos csv - ET0HS reanalise/ET0HS_OUTUBRO.csv\", index=False)\r\n",
    "df_nov.to_csv(\"Arquivos csv - ET0HS reanalise/ET0HS_NOVEMBRO.csv\", index=False)\r\n",
    "df_dez.to_csv(\"Arquivos csv - ET0HS reanalise/ET0HS_DEZEMBRO.csv\", index=False)\r\n",
    "\r\n",
    "print('Concluido!')"
   ],
   "outputs": [
    {
     "output_type": "stream",
     "name": "stdout",
     "text": [
      "Concluido!\n"
     ]
    }
   ],
   "metadata": {}
  },
  {
   "cell_type": "code",
   "execution_count": null,
   "source": [],
   "outputs": [],
   "metadata": {}
  }
 ],
 "metadata": {
  "kernelspec": {
   "name": "python3",
   "display_name": "Python 3.7.6 64-bit ('base': conda)"
  },
  "language_info": {
   "codemirror_mode": {
    "name": "ipython",
    "version": 3
   },
   "file_extension": ".py",
   "mimetype": "text/x-python",
   "name": "python",
   "nbconvert_exporter": "python",
   "pygments_lexer": "ipython3",
   "version": "3.7.6"
  },
  "interpreter": {
   "hash": "fc82fab16f5913374afb6b87750d22e39cfa13add37f9c67c0b9eb640cfc5293"
  }
 },
 "nbformat": 4,
 "nbformat_minor": 4
}