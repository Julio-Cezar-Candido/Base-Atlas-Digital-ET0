{
 "cells": [
  {
   "cell_type": "code",
   "execution_count": 1,
   "metadata": {},
   "outputs": [],
   "source": [
    "# Importando bibliotecas:\n",
    "import pandas as pd\n",
    "import numpy as np\n",
    "import os"
   ]
  },
  {
   "cell_type": "code",
   "execution_count": 2,
   "metadata": {},
   "outputs": [
    {
     "data": {
      "text/plain": [
       "['A009_PALMAS.xlsx',\n",
       " 'A010_PARANA.xlsx',\n",
       " 'A018_PEIXE.xlsx',\n",
       " 'A019_GURUPI.xlsx',\n",
       " 'A020_PEDRO_AFONSO.xlsx',\n",
       " 'A021_ARAGUAINA.xlsx',\n",
       " 'A038_DIANOPOLIS.xlsx',\n",
       " 'A039_FORMOSO_DO_ARAGUAIA.xlsx',\n",
       " 'A040_MATEIROS.xlsx',\n",
       " 'A041_MARIANOPOLIS_DO_TO.xlsx',\n",
       " 'A044_ARAGUATINS.xlsx']"
      ]
     },
     "execution_count": 2,
     "metadata": {},
     "output_type": "execute_result"
    }
   ],
   "source": [
    "# Pegando nome dos Arquivos:\n",
    "arquivos = os.listdir('Resultados Analise/medias finais')\n",
    "\n",
    "if \"Graficos\" in arquivos:\n",
    "    arquivos.remove(\"Graficos\")\n",
    "\n",
    "arquivos"
   ]
  },
  {
   "cell_type": "code",
   "execution_count": 3,
   "metadata": {},
   "outputs": [],
   "source": [
    "# Definindo latitude e longitude:\n",
    "lat = [-10.1689, -12.6162, -12.0262, -11.7249, -8.9715, -7.19207, -11.6281, -11.7957, -10.5464, -9.79377, -5.65615]\n",
    "lon = [-48.3317, -47.8836, -48.5396, -49.076, -48.1754, -48.2078, -46.8214, -49.5311, -46.4168, -49.6553, -48.1189]\n",
    "\n",
    "# Definindo Dicionario para salvar dados separados por mês:\n",
    "valores_mensais = {\n",
    "    \"jan\": {\"lati\": lat, \"long\": lon, \"etopm\": [], \"etoiv\": [], \"etohs\": [], \"municipios\": []},\n",
    "    \"fev\": {\"lati\": lat, \"long\": lon, \"etopm\": [], \"etoiv\": [], \"etohs\": [], \"municipios\": []},\n",
    "    \"mar\": {\"lati\": lat, \"long\": lon, \"etopm\": [], \"etoiv\": [], \"etohs\": [], \"municipios\": []},\n",
    "    \"abr\": {\"lati\": lat, \"long\": lon, \"etopm\": [], \"etoiv\": [], \"etohs\": [], \"municipios\": []},\n",
    "    \"mai\": {\"lati\": lat, \"long\": lon, \"etopm\": [], \"etoiv\": [], \"etohs\": [], \"municipios\": []},\n",
    "    \"jun\": {\"lati\": lat, \"long\": lon, \"etopm\": [], \"etoiv\": [], \"etohs\": [], \"municipios\": []},\n",
    "    \"jul\": {\"lati\": lat, \"long\": lon, \"etopm\": [], \"etoiv\": [], \"etohs\": [], \"municipios\": []},\n",
    "    \"ago\": {\"lati\": lat, \"long\": lon, \"etopm\": [], \"etoiv\": [], \"etohs\": [], \"municipios\": []},\n",
    "    \"set\": {\"lati\": lat, \"long\": lon, \"etopm\": [], \"etoiv\": [], \"etohs\": [], \"municipios\": []},\n",
    "    \"out\": {\"lati\": lat, \"long\": lon, \"etopm\": [], \"etoiv\": [], \"etohs\": [], \"municipios\": []},\n",
    "    \"nov\": {\"lati\": lat, \"long\": lon, \"etopm\": [], \"etoiv\": [], \"etohs\": [], \"municipios\": []},\n",
    "    \"dez\": {\"lati\": lat, \"long\": lon, \"etopm\": [], \"etoiv\": [], \"etohs\": [], \"municipios\": []},\n",
    "}"
   ]
  },
  {
   "cell_type": "code",
   "execution_count": 4,
   "metadata": {},
   "outputs": [],
   "source": [
    "# Pegar Colunas \"Média PM\", \"Média IV\", \"Média HS\" e \"Unnamed: 9\" de cada arquivo é salvar em um dict\n",
    "\n",
    "# Criando lista auxiliar:\n",
    "meses = ['jan', 'fev', 'mar', 'abr', 'mai', 'jun', 'jul', 'ago', 'set', 'out', 'nov', 'dez']\n",
    "\n",
    "# Entra em cada arquivo é cria um DataFrame:\n",
    "for i in range(len(arquivos)):\n",
    "    df = pd.read_excel(f'Resultados Analise/medias finais/{arquivos[i]}', usecols=[9, 10, 11, 12])\n",
    "    df = df.dropna()\n",
    "\n",
    "    # Entra em cada mês do DataFrame:\n",
    "    for mês in range(0, len(df) - 1):\n",
    "        valores_mensais[meses[mês]]['etopm'].append(f'{df[\"Média PM\"][mês]:.2f}')\n",
    "        valores_mensais[meses[mês]]['etoiv'].append(f'{df[\"Média IV\"][mês]:.2f}')\n",
    "        valores_mensais[meses[mês]]['etohs'].append(f'{df[\"Média HS\"][mês]:.2f}')\n",
    "        aux = arquivos[i][5:-5]\n",
    "        aux = aux.casefold()\n",
    "        aux = aux.capitalize()\n",
    "        valores_mensais[meses[mês]]['municipios'].append(aux)"
   ]
  },
  {
   "cell_type": "code",
   "execution_count": null,
   "metadata": {},
   "outputs": [],
   "source": [
    "# Exportar esses dados em cvs separados por mês, com as lat e log de municipio:\n",
    "\n",
    "# Criando DataFrames:\n",
    "df_jan = pd.DataFrame(data=valores_mensais[\"jan\"])\n",
    "df_fev = pd.DataFrame(data=valores_mensais[\"fev\"])\n",
    "df_mar = pd.DataFrame(data=valores_mensais[\"mar\"])\n",
    "df_abr = pd.DataFrame(data=valores_mensais[\"abr\"])\n",
    "df_mai = pd.DataFrame(data=valores_mensais[\"mai\"])\n",
    "df_jun = pd.DataFrame(data=valores_mensais[\"jun\"])\n",
    "df_jul = pd.DataFrame(data=valores_mensais[\"jul\"])\n",
    "df_ago = pd.DataFrame(data=valores_mensais[\"ago\"])\n",
    "df_set = pd.DataFrame(data=valores_mensais[\"set\"])\n",
    "df_out = pd.DataFrame(data=valores_mensais[\"out\"])\n",
    "df_nov = pd.DataFrame(data=valores_mensais[\"nov\"])\n",
    "df_dez = pd.DataFrame(data=valores_mensais[\"dez\"])"
   ]
  },
  {
   "cell_type": "code",
   "execution_count": null,
   "metadata": {},
   "outputs": [],
   "source": [
    "#Salvar as médias mensais em arquivos csv:\n",
    "df_jan.to_csv(\"Arquivos csv - ET0PM ET0HS ET0IV - Estações/ET0s_JANEIRO.csv\")\n",
    "df_fev.to_csv(\"Arquivos csv - ET0PM ET0HS ET0IV - Estações/ET0s_FEVEREIRO.csv\")\n",
    "df_mar.to_csv(\"Arquivos csv - ET0PM ET0HS ET0IV - Estações/ET0s_MARÇO.csv\")\n",
    "df_abr.to_csv(\"Arquivos csv - ET0PM ET0HS ET0IV - Estações/ET0s_ABRIL.csv\")\n",
    "df_mai.to_csv(\"Arquivos csv - ET0PM ET0HS ET0IV - Estações/ET0s_MAIO.csv\")\n",
    "df_jun.to_csv(\"Arquivos csv - ET0PM ET0HS ET0IV - Estações/ET0s_JUNHO.csv\")\n",
    "df_jul.to_csv(\"Arquivos csv - ET0PM ET0HS ET0IV - Estações/ET0s_JULHO.csv\")\n",
    "df_ago.to_csv(\"Arquivos csv - ET0PM ET0HS ET0IV - Estações/ET0s_AGOSTO.csv\")\n",
    "df_set.to_csv(\"Arquivos csv - ET0PM ET0HS ET0IV - Estações/ET0s_SETEMBRO.csv\")\n",
    "df_out.to_csv(\"Arquivos csv - ET0PM ET0HS ET0IV - Estações/ET0s_OUTUBRO.csv\")\n",
    "df_nov.to_csv(\"Arquivos csv - ET0PM ET0HS ET0IV - Estações/ET0s_NOVEMBRO.csv\")\n",
    "df_dez.to_csv(\"Arquivos csv - ET0PM ET0HS ET0IV - Estações/ET0s_DEZEMBRO.csv\")"
   ]
  }
 ],
 "metadata": {
  "interpreter": {
   "hash": "fc82fab16f5913374afb6b87750d22e39cfa13add37f9c67c0b9eb640cfc5293"
  },
  "kernelspec": {
   "display_name": "Python 3.7.6 64-bit ('base': conda)",
   "name": "python3"
  },
  "language_info": {
   "codemirror_mode": {
    "name": "ipython",
    "version": 3
   },
   "file_extension": ".py",
   "mimetype": "text/x-python",
   "name": "python",
   "nbconvert_exporter": "python",
   "pygments_lexer": "ipython3",
   "version": "3.7.6"
  },
  "orig_nbformat": 4
 },
 "nbformat": 4,
 "nbformat_minor": 2
}
