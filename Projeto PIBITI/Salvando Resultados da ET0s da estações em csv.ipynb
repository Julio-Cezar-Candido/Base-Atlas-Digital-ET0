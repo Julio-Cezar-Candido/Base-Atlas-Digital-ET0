{
 "cells": [
  {
   "cell_type": "code",
   "execution_count": 8,
   "source": [
    "# Importando bibliotecas:\r\n",
    "import pandas as pd\r\n",
    "import numpy as np\r\n",
    "import os"
   ],
   "outputs": [],
   "metadata": {}
  },
  {
   "cell_type": "code",
   "execution_count": 9,
   "source": [
    "# Pegando nome dos Arquivos:\r\n",
    "arquivos = os.listdir('Resultados Analise/medias finais')\r\n",
    "\r\n",
    "if \"Graficos\" in arquivos:\r\n",
    "    arquivos.remove(\"Graficos\")\r\n",
    "\r\n",
    "arquivos"
   ],
   "outputs": [
    {
     "output_type": "execute_result",
     "data": {
      "text/plain": [
       "['A009_PALMAS.xlsx',\n",
       " 'A010_PARANA.xlsx',\n",
       " 'A018_PEIXE.xlsx',\n",
       " 'A019_GURUPI.xlsx',\n",
       " 'A020_PEDRO_AFONSO.xlsx',\n",
       " 'A021_ARAGUAINA.xlsx',\n",
       " 'A038_DIANOPOLIS.xlsx',\n",
       " 'A039_FORMOSO_DO_ARAGUAIA.xlsx',\n",
       " 'A040_MATEIROS.xlsx',\n",
       " 'A041_MARIANOPOLIS_DO_TO.xlsx',\n",
       " 'A044_ARAGUATINS.xlsx']"
      ]
     },
     "metadata": {},
     "execution_count": 9
    }
   ],
   "metadata": {}
  },
  {
   "cell_type": "code",
   "execution_count": 10,
   "source": [
    "# Definindo latitude e longitude:\r\n",
    "lat = [-10.1689, -12.6162, -12.0262, -11.7249, -8.9715, -7.19207, -11.6281, -11.7957, -10.5464, -9.79377, -5.65615]\r\n",
    "lon = [-48.3317, -47.8836, -48.5396, -49.076, -48.1754, -48.2078, -46.8214, -49.5311, -46.4168, -49.6553, -48.1189]\r\n",
    "\r\n",
    "# Definindo Dicionario para salvar dados separados por mês:\r\n",
    "valores_mensais = {\r\n",
    "    \"jan\": {\"lati\": lat, \"long\": lon, \"etopm\": [], \"etoiv\": [], \"etohs\": [], \"municipios\": []},\r\n",
    "    \"fev\": {\"lati\": lat, \"long\": lon, \"etopm\": [], \"etoiv\": [], \"etohs\": [], \"municipios\": []},\r\n",
    "    \"mar\": {\"lati\": lat, \"long\": lon, \"etopm\": [], \"etoiv\": [], \"etohs\": [], \"municipios\": []},\r\n",
    "    \"abr\": {\"lati\": lat, \"long\": lon, \"etopm\": [], \"etoiv\": [], \"etohs\": [], \"municipios\": []},\r\n",
    "    \"mai\": {\"lati\": lat, \"long\": lon, \"etopm\": [], \"etoiv\": [], \"etohs\": [], \"municipios\": []},\r\n",
    "    \"jun\": {\"lati\": lat, \"long\": lon, \"etopm\": [], \"etoiv\": [], \"etohs\": [], \"municipios\": []},\r\n",
    "    \"jul\": {\"lati\": lat, \"long\": lon, \"etopm\": [], \"etoiv\": [], \"etohs\": [], \"municipios\": []},\r\n",
    "    \"ago\": {\"lati\": lat, \"long\": lon, \"etopm\": [], \"etoiv\": [], \"etohs\": [], \"municipios\": []},\r\n",
    "    \"set\": {\"lati\": lat, \"long\": lon, \"etopm\": [], \"etoiv\": [], \"etohs\": [], \"municipios\": []},\r\n",
    "    \"out\": {\"lati\": lat, \"long\": lon, \"etopm\": [], \"etoiv\": [], \"etohs\": [], \"municipios\": []},\r\n",
    "    \"nov\": {\"lati\": lat, \"long\": lon, \"etopm\": [], \"etoiv\": [], \"etohs\": [], \"municipios\": []},\r\n",
    "    \"dez\": {\"lati\": lat, \"long\": lon, \"etopm\": [], \"etoiv\": [], \"etohs\": [], \"municipios\": []},\r\n",
    "}"
   ],
   "outputs": [],
   "metadata": {}
  },
  {
   "cell_type": "code",
   "execution_count": 11,
   "source": [
    "# Pegar Colunas \"Média PM\", \"Média IV\", \"Média HS\" e \"Unnamed: 9\" de cada arquivo é salvar em um dict\r\n",
    "\r\n",
    "# Criando lista auxiliar:\r\n",
    "meses = ['jan', 'fev', 'mar', 'abr', 'mai', 'jun', 'jul', 'ago', 'set', 'out', 'nov', 'dez']\r\n",
    "\r\n",
    "# Entra em cada arquivo é cria um DataFrame:\r\n",
    "for i in range(len(arquivos)):\r\n",
    "    df = pd.read_excel(f'Resultados Analise/medias finais/{arquivos[i]}', usecols=[9, 10, 11, 12])\r\n",
    "    df = df.dropna()\r\n",
    "\r\n",
    "    # Entra em cada mês do DataFrame:\r\n",
    "    for mês in range(0, len(df) - 1):\r\n",
    "        valores_mensais[meses[mês]]['etopm'].append(f'{df[\"Média PM\"][mês]:.2f}')\r\n",
    "        valores_mensais[meses[mês]]['etoiv'].append(f'{df[\"Média IV\"][mês]:.2f}')\r\n",
    "        valores_mensais[meses[mês]]['etohs'].append(f'{df[\"Média HS\"][mês]:.2f}')\r\n",
    "        aux = arquivos[i][5:-5]\r\n",
    "        aux = aux.casefold()\r\n",
    "        aux = aux.casefold()\r\n",
    "        valores_mensais[meses[mês]]['municipios'].append(aux)"
   ],
   "outputs": [],
   "metadata": {}
  },
  {
   "cell_type": "code",
   "execution_count": 12,
   "source": [
    "# Exportar esses dados em cvs separados por mês, com as lat e log de municipio:\r\n",
    "\r\n",
    "# Criando DataFrames:\r\n",
    "df_jan = pd.DataFrame(data=valores_mensais[\"jan\"])\r\n",
    "df_fev = pd.DataFrame(data=valores_mensais[\"fev\"])\r\n",
    "df_mar = pd.DataFrame(data=valores_mensais[\"mar\"])\r\n",
    "df_abr = pd.DataFrame(data=valores_mensais[\"abr\"])\r\n",
    "df_mai = pd.DataFrame(data=valores_mensais[\"mai\"])\r\n",
    "df_jun = pd.DataFrame(data=valores_mensais[\"jun\"])\r\n",
    "df_jul = pd.DataFrame(data=valores_mensais[\"jul\"])\r\n",
    "df_ago = pd.DataFrame(data=valores_mensais[\"ago\"])\r\n",
    "df_set = pd.DataFrame(data=valores_mensais[\"set\"])\r\n",
    "df_out = pd.DataFrame(data=valores_mensais[\"out\"])\r\n",
    "df_nov = pd.DataFrame(data=valores_mensais[\"nov\"])\r\n",
    "df_dez = pd.DataFrame(data=valores_mensais[\"dez\"])"
   ],
   "outputs": [],
   "metadata": {}
  },
  {
   "cell_type": "code",
   "execution_count": 13,
   "source": [
    "#Salvar as médias mensais em arquivos csv:\r\n",
    "df_jan.to_csv(\"Arquivos csv - ET0PM ET0HS ET0IV - Estações/ET0s_JANEIRO.csv\", index=False)\r\n",
    "df_fev.to_csv(\"Arquivos csv - ET0PM ET0HS ET0IV - Estações/ET0s_FEVEREIRO.csv\", index=False)\r\n",
    "df_mar.to_csv(\"Arquivos csv - ET0PM ET0HS ET0IV - Estações/ET0s_MARÇO.csv\", index=False)\r\n",
    "df_abr.to_csv(\"Arquivos csv - ET0PM ET0HS ET0IV - Estações/ET0s_ABRIL.csv\", index=False)\r\n",
    "df_mai.to_csv(\"Arquivos csv - ET0PM ET0HS ET0IV - Estações/ET0s_MAIO.csv\", index=False)\r\n",
    "df_jun.to_csv(\"Arquivos csv - ET0PM ET0HS ET0IV - Estações/ET0s_JUNHO.csv\", index=False)\r\n",
    "df_jul.to_csv(\"Arquivos csv - ET0PM ET0HS ET0IV - Estações/ET0s_JULHO.csv\", index=False)\r\n",
    "df_ago.to_csv(\"Arquivos csv - ET0PM ET0HS ET0IV - Estações/ET0s_AGOSTO.csv\", index=False)\r\n",
    "df_set.to_csv(\"Arquivos csv - ET0PM ET0HS ET0IV - Estações/ET0s_SETEMBRO.csv\", index=False)\r\n",
    "df_out.to_csv(\"Arquivos csv - ET0PM ET0HS ET0IV - Estações/ET0s_OUTUBRO.csv\", index=False)\r\n",
    "df_nov.to_csv(\"Arquivos csv - ET0PM ET0HS ET0IV - Estações/ET0s_NOVEMBRO.csv\", index=False)\r\n",
    "df_dez.to_csv(\"Arquivos csv - ET0PM ET0HS ET0IV - Estações/ET0s_DEZEMBRO.csv\", index=False)"
   ],
   "outputs": [],
   "metadata": {}
  }
 ],
 "metadata": {
  "orig_nbformat": 4,
  "language_info": {
   "name": "python",
   "version": "3.7.6",
   "mimetype": "text/x-python",
   "codemirror_mode": {
    "name": "ipython",
    "version": 3
   },
   "pygments_lexer": "ipython3",
   "nbconvert_exporter": "python",
   "file_extension": ".py"
  },
  "kernelspec": {
   "name": "python3",
   "display_name": "Python 3.7.6 64-bit ('base': conda)"
  },
  "interpreter": {
   "hash": "fc82fab16f5913374afb6b87750d22e39cfa13add37f9c67c0b9eb640cfc5293"
  }
 },
 "nbformat": 4,
 "nbformat_minor": 2
}